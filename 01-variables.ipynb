{
 "cells": [
  {
   "cell_type": "markdown",
   "metadata": {},
   "source": [
    "# **Ejercicios de variables**\n",
    "\n",
    "**Variable:** una porción de la memoría de la computadora donde puede almacenar info y que tiene una etiqueta."
   ]
  },
  {
   "cell_type": "code",
   "execution_count": null,
   "metadata": {},
   "outputs": [],
   "source": [
    "edad_natalia = 33 # número entero (Int)\n",
    "nombre = \"Natalia\" # cadena de caracteres (String = str)"
   ]
  },
  {
   "cell_type": "markdown",
   "metadata": {},
   "source": [
    "- Almacenar 5 valores enteros \n",
    "- obtener la suma de los mismos"
   ]
  },
  {
   "cell_type": "code",
   "execution_count": 4,
   "metadata": {},
   "outputs": [
    {
     "name": "stdout",
     "output_type": "stream",
     "text": [
      "suma de edades 242\n"
     ]
    }
   ],
   "source": [
    "edad_nati = 33\n",
    "edad_caro = 35\n",
    "edad_mama = 60\n",
    "edad_papa = 65\n",
    "edad_gato = 7*7\n",
    "\n",
    "print(\"suma de edades\", edad_nati + edad_caro + edad_mama + edad_papa + edad_gato)"
   ]
  },
  {
   "cell_type": "markdown",
   "metadata": {},
   "source": [
    "- Calcular el promedio de las edades de las variables anteriores.\n",
    "*(La formula es la suma de los valores dividido la cantidad de los mismos)*"
   ]
  },
  {
   "cell_type": "code",
   "execution_count": 6,
   "metadata": {},
   "outputs": [
    {
     "name": "stdout",
     "output_type": "stream",
     "text": [
      "el promedio de edades es 48.4\n"
     ]
    }
   ],
   "source": [
    "edades_total = edad_nati + edad_caro + edad_mama + edad_papa + edad_gato\n",
    "\n",
    "promedio = edades_total / 5 \n",
    "\n",
    "print(\"el promedio de edades es\", promedio)"
   ]
  },
  {
   "cell_type": "markdown",
   "metadata": {},
   "source": [
    "# Operaciones con cadenas de texto.\n",
    "\n",
    "- **Concatenacion:** es sumar cadenas de textos, una despues de otra\n",
    "- **Multiplicacion:** es replicar una cadena de texto una N cantidad de veces\n",
    "- **Split:** es dividir una cadena de texto en base a un caracter  "
   ]
  },
  {
   "cell_type": "code",
   "execution_count": 8,
   "metadata": {},
   "outputs": [
    {
     "name": "stdout",
     "output_type": "stream",
     "text": [
      "nombre completo, Garcia, Juan\n"
     ]
    }
   ],
   "source": [
    "# concatenacion\n",
    "nombre = \"Juan\"\n",
    "apellido = \"Garcia\"\n",
    "\n",
    "full_name = apellido + \", \" + nombre\n",
    "\n",
    "print(\"nombre completo,\", full_name)"
   ]
  },
  {
   "cell_type": "code",
   "execution_count": 11,
   "metadata": {},
   "outputs": [
    {
     "name": "stdout",
     "output_type": "stream",
     "text": [
      "Mani para todos\n",
      "av siempre viva 1234\n",
      ".......................................................\n",
      "alpargatas vendidas: 5 por un valor de $40 Total: $200\n",
      "zapatillas vendidas: 7 por un valor de $100 Total: $700\n",
      ".......................................................\n",
      "\n",
      "Total recaudado: $900\n"
     ]
    }
   ],
   "source": [
    "# multiplicacion\n",
    "nombre_empresa = \"Mani para todos\"\n",
    "direccion = \"av siempre viva 1234\"\n",
    "encabezado = nombre_empresa + \"\\n\" + direccion  + \"\\n\"\n",
    "separador = \".\" *55 + \"\\n\"\n",
    "alpargata_valor = 40\n",
    "zapatilla_valor = 100\n",
    "cantidad_alpargata = 5\n",
    "cantidad_zapatilla = 7\n",
    "total_factura = cantidad_alpargata * alpargata_valor + cantidad_zapatilla * zapatilla_valor\n",
    "\n",
    "print(encabezado + separador + \"alpargatas vendidas: \" + str(cantidad_alpargata) + \" por un valor de $\" + str(alpargata_valor) + \" Total: $\" + str(cantidad_alpargata * alpargata_valor) +\"\\n\" + \"zapatillas vendidas: \" + str(cantidad_zapatilla) + \" por un valor de $\" + str(zapatilla_valor) + \" Total: $\" + str(cantidad_zapatilla * zapatilla_valor) + \"\\n\" + separador + \"\\n\" + \"Total recaudado: $\" + str(total_factura))"
   ]
  },
  {
   "cell_type": "code",
   "execution_count": 13,
   "metadata": {},
   "outputs": [
    {
     "name": "stdout",
     "output_type": "stream",
     "text": [
      "Mani para todos\n",
      "av siempre viva 1234\n",
      ".......................................................\n",
      "alpargatas vendidas: 5 por un valor de $40 Total: $200\n",
      "zapatillas vendidas: 7 por un valor de $100 Total: $700\n",
      ".......................................................\n",
      "Total recaudado: $900\n"
     ]
    }
   ],
   "source": [
    "linea_1 = \"alpargatas vendidas: \" + str(cantidad_alpargata) + \" por un valor de $\" + str(alpargata_valor) + \" Total: $\" + str(cantidad_alpargata * alpargata_valor) +\"\\n\"\n",
    "linea_2 =\"zapatillas vendidas: \" + str(cantidad_zapatilla) + \" por un valor de $\" + str(zapatilla_valor) + \" Total: $\" + str(cantidad_zapatilla * zapatilla_valor) + \"\\n\"\n",
    "\n",
    "\n",
    "print(encabezado + separador + linea_1 + linea_2 + separador + \"Total recaudado: $\" + str(total_factura))"
   ]
  },
  {
   "cell_type": "markdown",
   "metadata": {},
   "source": [
    "## Acumulador\n",
    "\n",
    "- Un acumulador es una variable que opera sobre si misma y mantiene su valor. Debe tener una valor inicial."
   ]
  },
  {
   "cell_type": "code",
   "execution_count": 1,
   "metadata": {},
   "outputs": [
    {
     "name": "stdout",
     "output_type": "stream",
     "text": [
      "20\n"
     ]
    }
   ],
   "source": [
    "total = 0\n",
    "total = total + 5\n",
    "total = total + 25\n",
    "total = total - 10\n",
    "\n",
    "print(total)"
   ]
  },
  {
   "cell_type": "markdown",
   "metadata": {},
   "source": [
    "## Contador\n",
    "\n",
    "- Un contador es una acumulador que siempre opera con un número constante, generalmente el 1."
   ]
  },
  {
   "cell_type": "code",
   "execution_count": 6,
   "metadata": {},
   "outputs": [
    {
     "name": "stdout",
     "output_type": "stream",
     "text": [
      "1\n",
      "5\n"
     ]
    }
   ],
   "source": [
    "cantidad_pajaros = 0\n",
    "cantidad_pajaros = cantidad_pajaros + 1\n",
    "cantidad_pajaros = cantidad_pajaros + 1\n",
    "cantidad_pajaros = cantidad_pajaros - 1\n",
    "\n",
    "print(cantidad_pajaros)\n",
    "\n",
    "pajaros = [\"Avestrus\", \"Paloma\", \"Ganzo\", \"Gallina\", \"Pato\"]\n",
    "\n",
    "cantidad_pajaros = 0\n",
    "\n",
    "for pajaro in pajaros:\n",
    "    cantidad_pajaros = cantidad_pajaros + 1\n",
    "\n",
    "print(cantidad_pajaros)"
   ]
  },
  {
   "cell_type": "markdown",
   "metadata": {},
   "source": [
    "## Operadores para acumuladores y contadores\n",
    "\n",
    "- Para simplificar la escritura del codigo se pueden usar operadores especiales. "
   ]
  },
  {
   "cell_type": "code",
   "execution_count": 13,
   "metadata": {},
   "outputs": [
    {
     "name": "stdout",
     "output_type": "stream",
     "text": [
      "10\n",
      "9\n"
     ]
    }
   ],
   "source": [
    "pajaros = [\"Avestrus\", \"Paloma\", \"Ganzo\", \"Gallina\", \"Pato\"]\n",
    "\n",
    "cantidad_pajaros = 0\n",
    "\n",
    "for pajaro in pajaros:\n",
    "    cantidad_pajaros += 2\n",
    "\n",
    "print(cantidad_pajaros)\n",
    "\n",
    "frutas = [{\n",
    "    \"nombre\": \"Banana\",\n",
    "    \"precio\": 2 \n",
    "},{\n",
    "    \"nombre\": \"Manzana\",\n",
    "    \"precio\": 4\n",
    "},{\n",
    "    \"nombre\": \"Naranja\",\n",
    "    \"precio\": 3\n",
    "}]\n",
    "\n",
    "gastos_totales = 0\n",
    "\n",
    "for fruta in frutas:\n",
    "    precio = fruta[\"precio\"]\n",
    "    gastos_totales += precio\n",
    "\n",
    "print(gastos_totales)\n",
    "\n",
    "\n"
   ]
  }
 ],
 "metadata": {
  "kernelspec": {
   "display_name": ".virtual",
   "language": "python",
   "name": "python3"
  },
  "language_info": {
   "codemirror_mode": {
    "name": "ipython",
    "version": 3
   },
   "file_extension": ".py",
   "mimetype": "text/x-python",
   "name": "python",
   "nbconvert_exporter": "python",
   "pygments_lexer": "ipython3",
   "version": "3.11.5"
  },
  "orig_nbformat": 4
 },
 "nbformat": 4,
 "nbformat_minor": 2
}
