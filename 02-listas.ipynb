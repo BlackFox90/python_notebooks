{
 "cells": [
  {
   "cell_type": "markdown",
   "metadata": {},
   "source": [
    "# **Listas** "
   ]
  },
  {
   "cell_type": "markdown",
   "metadata": {},
   "source": [
    "Una lista es un conjunto de elementos. Hay diferentes tipos de listas:\n",
    "- **Vector/ARRAY:** *listas donde todos los elementos son iguales*\n",
    "- **Lista:** *listas donde los elementos pueden ser de diferente tipo*\n",
    "- **Matrices:** *listas donde los elementos son otras listas*"
   ]
  },
  {
   "cell_type": "code",
   "execution_count": 19,
   "metadata": {},
   "outputs": [
    {
     "name": "stdout",
     "output_type": "stream",
     "text": [
      "naranja\n"
     ]
    }
   ],
   "source": [
    "frutas = [\"pera\", \"manzana\", \"naranja\"]\n",
    "\n",
    "# obtener el segundo elemento de la lista\n",
    "\n",
    "preferida = frutas[2]\n",
    "\n",
    "print(preferida)"
   ]
  },
  {
   "cell_type": "markdown",
   "metadata": {},
   "source": [
    "- El operador \"+\" sirve para unir o concatenar una o más listas"
   ]
  },
  {
   "cell_type": "code",
   "execution_count": 23,
   "metadata": {},
   "outputs": [
    {
     "name": "stdout",
     "output_type": "stream",
     "text": [
      "[99, 23, 32, 54, 'manzana', 'naranja', 'pera']\n"
     ]
    }
   ],
   "source": [
    "edades = [99, 23, 32, 54]\n",
    "\n",
    "suma = edades + frutas \n",
    "\n",
    "print(suma)"
   ]
  },
  {
   "cell_type": "markdown",
   "metadata": {},
   "source": [
    "- El operador \"*\" sirve para repetir el contenido de una lista"
   ]
  },
  {
   "cell_type": "code",
   "execution_count": 20,
   "metadata": {},
   "outputs": [
    {
     "name": "stdout",
     "output_type": "stream",
     "text": [
      "['pera', 'manzana', 'naranja', 'pera', 'manzana', 'naranja', 'pera', 'manzana', 'naranja']\n",
      "[23, 32, 54, 23, 32, 54, 23, 32, 54]\n"
     ]
    }
   ],
   "source": [
    "print(frutas*3)\n",
    "print(edades*3)"
   ]
  },
  {
   "cell_type": "markdown",
   "metadata": {},
   "source": [
    "- Para ordenar una lista, se usa el método *sort*"
   ]
  },
  {
   "cell_type": "code",
   "execution_count": 21,
   "metadata": {},
   "outputs": [
    {
     "name": "stdout",
     "output_type": "stream",
     "text": [
      "['pera', 'manzana', 'naranja']\n",
      "['manzana', 'naranja', 'pera']\n"
     ]
    }
   ],
   "source": [
    "print(frutas)\n",
    "\n",
    "frutas.sort()\n",
    "frutas_ordenadas = frutas\n",
    "\n",
    "print(frutas_ordenadas)"
   ]
  },
  {
   "cell_type": "code",
   "execution_count": 24,
   "metadata": {},
   "outputs": [
    {
     "name": "stdout",
     "output_type": "stream",
     "text": [
      "[99, 23, 32, 54]\n",
      "[23, 32, 54, 99]\n"
     ]
    }
   ],
   "source": [
    "print(edades)\n",
    "\n",
    "edades.sort()\n",
    "edades_ordenadas = edades\n",
    "\n",
    "print(edades)"
   ]
  },
  {
   "cell_type": "markdown",
   "metadata": {},
   "source": [
    "- Para invertir el orden de los elementos de una lista se usa el método *reverse*"
   ]
  },
  {
   "cell_type": "code",
   "execution_count": 35,
   "metadata": {},
   "outputs": [
    {
     "name": "stdout",
     "output_type": "stream",
     "text": [
      "['P', 'A', 'L', 'I', 'T', 'O', 'P']\n",
      "['P', 'O', 'T', 'I', 'L', 'A', 'P']\n",
      "[99, 54, 32, 23]\n"
     ]
    }
   ],
   "source": [
    "letras = [\"P\", \"A\", \"L\", \"I\", \"T\", \"O\", \"P\"]\n",
    "\n",
    "print(letras)\n",
    "\n",
    "letras.reverse()\n",
    "\n",
    "print(letras)\n",
    "\n",
    "edades.reverse()\n",
    "\n",
    "print(edades)"
   ]
  },
  {
   "cell_type": "markdown",
   "metadata": {},
   "source": [
    "- Para obtener la cantidad de veces que un elemento aparece en una lista se usa el método *count*"
   ]
  },
  {
   "cell_type": "code",
   "execution_count": 34,
   "metadata": {},
   "outputs": [
    {
     "name": "stdout",
     "output_type": "stream",
     "text": [
      "2\n"
     ]
    }
   ],
   "source": [
    "cantidad_letras = letras.count(\"P\")\n",
    "\n",
    "print(cantidad_letras)"
   ]
  },
  {
   "cell_type": "markdown",
   "metadata": {},
   "source": [
    "- Para obtener la cantidad de elementos de una lista se usa el método *len*"
   ]
  },
  {
   "cell_type": "code",
   "execution_count": 36,
   "metadata": {},
   "outputs": [
    {
     "name": "stdout",
     "output_type": "stream",
     "text": [
      "7\n"
     ]
    }
   ],
   "source": [
    "cantidad_elementos = len(letras)\n",
    "\n",
    "print(cantidad_elementos)"
   ]
  },
  {
   "cell_type": "markdown",
   "metadata": {},
   "source": [
    "- **Para recorrer los elementos de una lista se usa el sentencia *for***"
   ]
  },
  {
   "cell_type": "code",
   "execution_count": 43,
   "metadata": {},
   "outputs": [
    {
     "name": "stdout",
     "output_type": "stream",
     "text": [
      "❤️ Firulais ❤️ - Cachirulo - 456123789\n",
      "❤️ Matilda ❤️ - Ramona - 321456987\n",
      "❤️ Pepe ❤️ - Cacho - 456987123\n",
      "❤️ Ruperto ❤️ - Ariel - 987123654\n",
      "❤️ Condorito ❤️ - Marta - 963258741\n"
     ]
    }
   ],
   "source": [
    "# Crear una lista de mascotas con nombre y nombres de sus dueños.\n",
    "\n",
    "mascotas =[\n",
    "    [\"Firulais\", \"Cachirulo\", 456123789],\n",
    "    [\"Matilda\", \"Ramona\", 321456987],\n",
    "    [\"Pepe\", \"Cacho\", 456987123],\n",
    "    [\"Ruperto\", \"Ariel\", 987123654],\n",
    "    [\"Condorito\", \"Marta\", 963258741]\n",
    "]\n",
    "\n",
    "for mascota_dueño in mascotas:\n",
    "\n",
    "    print(\"❤️\", mascota_dueño[0], \"❤️\", \"-\", mascota_dueño[1], \"-\", mascota_dueño[2] )\n"
   ]
  },
  {
   "cell_type": "markdown",
   "metadata": {},
   "source": [
    "- **Como obtener el ultimo elemento de una lista**"
   ]
  },
  {
   "cell_type": "code",
   "execution_count": 2,
   "metadata": {},
   "outputs": [
    {
     "name": "stdout",
     "output_type": "stream",
     "text": [
      "pez\n",
      "pajaro\n"
     ]
    }
   ],
   "source": [
    "mascotas = [\"gato\", \"perro\", \"pajaro\", \"pez\"]\n",
    "\n",
    "ultimo = mascotas[-1]\n",
    "anteultimo = mascotas[-2]\n",
    "\n",
    "# Obtener el ultimo y el anteultimo elemento \n",
    "\n",
    "print(ultimo)\n",
    "print(anteultimo)"
   ]
  },
  {
   "cell_type": "markdown",
   "metadata": {},
   "source": [
    "## Slices (fragmentos de listas)"
   ]
  },
  {
   "cell_type": "code",
   "execution_count": 5,
   "metadata": {},
   "outputs": [
    {
     "name": "stdout",
     "output_type": "stream",
     "text": [
      "['Brasil', 'Mexico']\n"
     ]
    }
   ],
   "source": [
    "paises = [\"Argentina\", \"Brasil\", \"Mexico\", \"China\", \"Rusia\"]\n",
    "\n",
    "# El slice se corta en el indice 3\n",
    "\n",
    "elegidos = paises[1:3]\n",
    "\n",
    "print(elegidos)"
   ]
  },
  {
   "cell_type": "markdown",
   "metadata": {},
   "source": [
    "## Sentencias "
   ]
  },
  {
   "cell_type": "code",
   "execution_count": 10,
   "metadata": {},
   "outputs": [
    {
     "name": "stdout",
     "output_type": "stream",
     "text": [
      "True\n",
      "False\n",
      "Hay que agregar Japon a la lista\n"
     ]
    }
   ],
   "source": [
    "# Buscar elementos en la lista: in\n",
    "\n",
    "existe = \"Brasil\" in paises\n",
    "\n",
    "existe_japon = \"Japon\" in paises\n",
    "\n",
    "print(existe)\n",
    "print(existe_japon)\n",
    "\n",
    "if \"Japon\" not in paises:\n",
    "    print(\"Hay que agregar Japon a la lista\")"
   ]
  },
  {
   "cell_type": "markdown",
   "metadata": {},
   "source": [
    "## Manejo de elementos de la lista"
   ]
  },
  {
   "cell_type": "code",
   "execution_count": 1,
   "metadata": {},
   "outputs": [
    {
     "name": "stdout",
     "output_type": "stream",
     "text": [
      "[5, 'tigre']\n"
     ]
    }
   ],
   "source": [
    "lista = []\n",
    "\n",
    "lista.append(5)\n",
    "\n",
    "lista.append(\"tigre\")\n",
    "\n",
    "print(lista)"
   ]
  }
 ],
 "metadata": {
  "kernelspec": {
   "display_name": ".virtual",
   "language": "python",
   "name": "python3"
  },
  "language_info": {
   "codemirror_mode": {
    "name": "ipython",
    "version": 3
   },
   "file_extension": ".py",
   "mimetype": "text/x-python",
   "name": "python",
   "nbconvert_exporter": "python",
   "pygments_lexer": "ipython3",
   "version": "3.11.5"
  },
  "orig_nbformat": 4
 },
 "nbformat": 4,
 "nbformat_minor": 2
}
