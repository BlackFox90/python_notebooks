{
 "cells": [
  {
   "cell_type": "markdown",
   "metadata": {},
   "source": [
    "# **Listas** "
   ]
  },
  {
   "cell_type": "markdown",
   "metadata": {},
   "source": [
    "Una lista es un conjunto de elementos. Hay diferentes tipos de listas:\n",
    "- **Vector/ARRAY:** *listas donde todos los elementos son iguales*\n",
    "- **Lista:** *listas donde los elementos pueden ser de diferente tipo*\n",
    "- **Matrices:** *listas donde los elementos son otras listas*"
   ]
  },
  {
   "cell_type": "code",
   "execution_count": 19,
   "metadata": {},
   "outputs": [
    {
     "name": "stdout",
     "output_type": "stream",
     "text": [
      "naranja\n"
     ]
    }
   ],
   "source": [
    "frutas = [\"pera\", \"manzana\", \"naranja\"]\n",
    "\n",
    "# obtener el segundo elemento de la lista\n",
    "\n",
    "preferida = frutas[2]\n",
    "\n",
    "print(preferida)"
   ]
  },
  {
   "cell_type": "markdown",
   "metadata": {},
   "source": [
    "- El operador \"+\" sirve para unir o concatenar una o más listas"
   ]
  },
  {
   "cell_type": "code",
   "execution_count": 23,
   "metadata": {},
   "outputs": [
    {
     "name": "stdout",
     "output_type": "stream",
     "text": [
      "[99, 23, 32, 54, 'manzana', 'naranja', 'pera']\n"
     ]
    }
   ],
   "source": [
    "edades = [99, 23, 32, 54]\n",
    "\n",
    "suma = edades + frutas \n",
    "\n",
    "print(suma)"
   ]
  },
  {
   "cell_type": "markdown",
   "metadata": {},
   "source": [
    "- El operador \"*\" sirve para repetir el contenido de una lista"
   ]
  },
  {
   "cell_type": "code",
   "execution_count": 20,
   "metadata": {},
   "outputs": [
    {
     "name": "stdout",
     "output_type": "stream",
     "text": [
      "['pera', 'manzana', 'naranja', 'pera', 'manzana', 'naranja', 'pera', 'manzana', 'naranja']\n",
      "[23, 32, 54, 23, 32, 54, 23, 32, 54]\n"
     ]
    }
   ],
   "source": [
    "print(frutas*3)\n",
    "print(edades*3)"
   ]
  },
  {
   "cell_type": "markdown",
   "metadata": {},
   "source": [
    "- Para ordenar una lista, se usa el método *sort*"
   ]
  },
  {
   "cell_type": "code",
   "execution_count": 21,
   "metadata": {},
   "outputs": [
    {
     "name": "stdout",
     "output_type": "stream",
     "text": [
      "['pera', 'manzana', 'naranja']\n",
      "['manzana', 'naranja', 'pera']\n"
     ]
    }
   ],
   "source": [
    "print(frutas)\n",
    "\n",
    "frutas.sort()\n",
    "frutas_ordenadas = frutas\n",
    "\n",
    "print(frutas_ordenadas)"
   ]
  },
  {
   "cell_type": "code",
   "execution_count": 24,
   "metadata": {},
   "outputs": [
    {
     "name": "stdout",
     "output_type": "stream",
     "text": [
      "[99, 23, 32, 54]\n",
      "[23, 32, 54, 99]\n"
     ]
    }
   ],
   "source": [
    "print(edades)\n",
    "\n",
    "edades.sort()\n",
    "edades_ordenadas = edades\n",
    "\n",
    "print(edades)"
   ]
  },
  {
   "cell_type": "markdown",
   "metadata": {},
   "source": [
    "- Para invertir el orden de los elementos de una lista se usa el método *reverse*"
   ]
  },
  {
   "cell_type": "code",
   "execution_count": 35,
   "metadata": {},
   "outputs": [
    {
     "name": "stdout",
     "output_type": "stream",
     "text": [
      "['P', 'A', 'L', 'I', 'T', 'O', 'P']\n",
      "['P', 'O', 'T', 'I', 'L', 'A', 'P']\n",
      "[99, 54, 32, 23]\n"
     ]
    }
   ],
   "source": [
    "letras = [\"P\", \"A\", \"L\", \"I\", \"T\", \"O\", \"P\"]\n",
    "\n",
    "print(letras)\n",
    "\n",
    "letras.reverse()\n",
    "\n",
    "print(letras)\n",
    "\n",
    "edades.reverse()\n",
    "\n",
    "print(edades)"
   ]
  },
  {
   "cell_type": "markdown",
   "metadata": {},
   "source": [
    "- Para obtener la cantidad de veces que un elemento aparece en una lista se usa el método *count*"
   ]
  },
  {
   "cell_type": "code",
   "execution_count": 34,
   "metadata": {},
   "outputs": [
    {
     "name": "stdout",
     "output_type": "stream",
     "text": [
      "2\n"
     ]
    }
   ],
   "source": [
    "cantidad_letras = letras.count(\"P\")\n",
    "\n",
    "print(cantidad_letras)"
   ]
  },
  {
   "cell_type": "markdown",
   "metadata": {},
   "source": [
    "- Para obtener la cantidad de elementos de una lista se usa el método *len*"
   ]
  },
  {
   "cell_type": "code",
   "execution_count": 36,
   "metadata": {},
   "outputs": [
    {
     "name": "stdout",
     "output_type": "stream",
     "text": [
      "7\n"
     ]
    }
   ],
   "source": [
    "cantidad_elementos = len(letras)\n",
    "\n",
    "print(cantidad_elementos)"
   ]
  },
  {
   "cell_type": "markdown",
   "metadata": {},
   "source": [
    "- **Para recorrer los elementos de una lista se usa el sentencia *for***"
   ]
  },
  {
   "cell_type": "code",
   "execution_count": 43,
   "metadata": {},
   "outputs": [
    {
     "name": "stdout",
     "output_type": "stream",
     "text": [
      "❤️ Firulais ❤️ - Cachirulo - 456123789\n",
      "❤️ Matilda ❤️ - Ramona - 321456987\n",
      "❤️ Pepe ❤️ - Cacho - 456987123\n",
      "❤️ Ruperto ❤️ - Ariel - 987123654\n",
      "❤️ Condorito ❤️ - Marta - 963258741\n"
     ]
    }
   ],
   "source": [
    "# Crear una lista de mascotas con nombre y nombres de sus dueños.\n",
    "\n",
    "mascotas =[\n",
    "    [\"Firulais\", \"Cachirulo\", 456123789],\n",
    "    [\"Matilda\", \"Ramona\", 321456987],\n",
    "    [\"Pepe\", \"Cacho\", 456987123],\n",
    "    [\"Ruperto\", \"Ariel\", 987123654],\n",
    "    [\"Condorito\", \"Marta\", 963258741]\n",
    "]\n",
    "\n",
    "for mascota_dueño in mascotas:\n",
    "\n",
    "    print(\"❤️\", mascota_dueño[0], \"❤️\", \"-\", mascota_dueño[1], \"-\", mascota_dueño[2] )\n"
   ]
  },
  {
   "cell_type": "markdown",
   "metadata": {},
   "source": [
    "- **Como obtener el ultimo elemento de una lista**"
   ]
  },
  {
   "cell_type": "code",
   "execution_count": 2,
   "metadata": {},
   "outputs": [
    {
     "name": "stdout",
     "output_type": "stream",
     "text": [
      "pez\n",
      "pajaro\n"
     ]
    }
   ],
   "source": [
    "mascotas = [\"gato\", \"perro\", \"pajaro\", \"pez\"]\n",
    "\n",
    "ultimo = mascotas[-1]\n",
    "anteultimo = mascotas[-2]\n",
    "\n",
    "# Obtener el ultimo y el anteultimo elemento \n",
    "\n",
    "print(ultimo)\n",
    "print(anteultimo)"
   ]
  },
  {
   "cell_type": "markdown",
   "metadata": {},
   "source": [
    "## Slices (fragmentos de listas)"
   ]
  },
  {
   "cell_type": "code",
   "execution_count": 5,
   "metadata": {},
   "outputs": [
    {
     "name": "stdout",
     "output_type": "stream",
     "text": [
      "['Brasil', 'Mexico']\n"
     ]
    }
   ],
   "source": [
    "paises = [\"Argentina\", \"Brasil\", \"Mexico\", \"China\", \"Rusia\"]\n",
    "\n",
    "# El slice se corta en el indice 3\n",
    "\n",
    "elegidos = paises[1:3]\n",
    "\n",
    "print(elegidos)"
   ]
  },
  {
   "cell_type": "markdown",
   "metadata": {},
   "source": [
    "## Sentencias "
   ]
  },
  {
   "cell_type": "code",
   "execution_count": 10,
   "metadata": {},
   "outputs": [
    {
     "name": "stdout",
     "output_type": "stream",
     "text": [
      "True\n",
      "False\n",
      "Hay que agregar Japon a la lista\n"
     ]
    }
   ],
   "source": [
    "# Buscar elementos en la lista: in\n",
    "\n",
    "existe = \"Brasil\" in paises\n",
    "\n",
    "existe_japon = \"Japon\" in paises\n",
    "\n",
    "print(existe)\n",
    "print(existe_japon)\n",
    "\n",
    "if \"Japon\" not in paises:\n",
    "    print(\"Hay que agregar Japon a la lista\")"
   ]
  },
  {
   "cell_type": "markdown",
   "metadata": {},
   "source": [
    "## Manejo de elementos de la lista"
   ]
  },
  {
   "cell_type": "code",
   "execution_count": 1,
   "metadata": {},
   "outputs": [
    {
     "name": "stdout",
     "output_type": "stream",
     "text": [
      "[5, 'tigre']\n"
     ]
    }
   ],
   "source": [
    "lista = []\n",
    "\n",
    "lista.append(5)\n",
    "\n",
    "lista.append(\"tigre\")\n",
    "\n",
    "print(lista)"
   ]
  },
  {
   "cell_type": "markdown",
   "metadata": {},
   "source": [
    "## Listas de números"
   ]
  },
  {
   "cell_type": "code",
   "execution_count": 4,
   "metadata": {},
   "outputs": [
    {
     "name": "stdout",
     "output_type": "stream",
     "text": [
      "[0, 1, 2, 3, 4, 5, 6, 7, 8, 9]\n"
     ]
    }
   ],
   "source": [
    "rango = range(0, 10)\n",
    "\n",
    "print(list(rango))"
   ]
  },
  {
   "cell_type": "markdown",
   "metadata": {},
   "source": [
    "## List Comprehension\n",
    "\n",
    "Es una forma programatica de generar una lista"
   ]
  },
  {
   "cell_type": "code",
   "execution_count": 24,
   "metadata": {},
   "outputs": [
    {
     "name": "stdout",
     "output_type": "stream",
     "text": [
      "[50, 60, 44] 154\n",
      "['Juan', 'María', 'Carlos']\n",
      "[{'nombre': 'Juan', 'ciudad': 'A'}, {'nombre': 'María', 'ciudad': 'B'}, {'nombre': 'Carlos', 'ciudad': 'C'}]\n",
      "['Torres, Juan', 'Schuister, María', 'Moño, Carlos']\n"
     ]
    }
   ],
   "source": [
    "ciudadanos = [\n",
    "    {\"nombre\": \"Juan\", \"apellido\": \"Torres\", \"edad\": 25, \"ciudad\": \"A\"},\n",
    "    {\"nombre\": \"María\", \"apellido\": \"Schuister\", \"edad\": 30, \"ciudad\": \"B\"},\n",
    "    {\"nombre\": \"Carlos\", \"apellido\": \"Moño\" ,\"edad\": 22, \"ciudad\": \"C\"}\n",
    "]\n",
    "\n",
    "nombres = [persona[\"nombre\"] for persona in ciudadanos]\n",
    "edades = [persona[\"edad\"]*2 for persona in ciudadanos]\n",
    "nueva_lista = [{\"nombre\": persona[\"nombre\"], \"ciudad\": persona[\"ciudad\"]} for persona in ciudadanos]\n",
    "otra_lista = [f\"{persona['apellido']}, {persona['nombre']}\" for persona in ciudadanos]\n",
    "\n",
    "total_edades = sum(edades)\n",
    "\n",
    "print(edades, total_edades)\n",
    "print(nombres)\n",
    "print(nueva_lista)\n",
    "print(otra_lista)\n"
   ]
  },
  {
   "cell_type": "code",
   "execution_count": 17,
   "metadata": {},
   "outputs": [
    {
     "name": "stdout",
     "output_type": "stream",
     "text": [
      "2\n"
     ]
    }
   ],
   "source": [
    "s = \"hola miguel, donde esta mi codigo????\"\n",
    "sub = \"l\"\n",
    "\n",
    "contador = 0\n",
    "contador_dos = 0\n",
    "\n",
    "# for i in range(len(s)):\n",
    "#     if s[i] == sub[0]:\n",
    "#         if s[i+1] == sub[1]:\n",
    "#             contador +=1\n",
    "# print(contador)\n",
    "\n",
    "for i in range(len(s) - len(sub) + 1):\n",
    "    if s[i:i+len(sub)] == sub:\n",
    "        contador_dos +=1\n",
    "print(contador_dos)\n",
    "\n"
   ]
  },
  {
   "cell_type": "code",
   "execution_count": 14,
   "metadata": {},
   "outputs": [
    {
     "name": "stdout",
     "output_type": "stream",
     "text": [
      "m\n",
      "mi m\n"
     ]
    }
   ],
   "source": [
    "lista = \"mi mañana no se ve linda con lluvia\"\n",
    "\n",
    "print(lista[0])\n",
    "print(lista[0:4])"
   ]
  },
  {
   "cell_type": "markdown",
   "metadata": {},
   "source": [
    "s = h  o  l  a     m  i  g  u  e  l    ,      d    o   n   d  e     e  s  t  a      m  i     c  o  d  i  g  o  ?  ?  ?  ?  \n",
    "    0  1  2  3  4  5  6  7  8  9  10  11  12 13   14  15  16  17   18 19 20 21  22 23 24 25 26 27 28 29 30 31 32 33 34 35\n",
    "\n",
    "sub = m i g\n",
    "      0 1 3\n",
    "\n",
    "\n",
    "palabra_mi = sub[0] + sub[1]\n",
    "\n",
    "\n",
    "s[0] == sub[0] \n",
    "s[1] == sub[0] \n",
    "s[2] == sub[0] \n",
    "s[3] == sub[0] \n",
    "s[4] == sub[0] \n",
    "s[5] == sub[0] => M\n",
    "    s[5+1] == sub[0+1] => I\n",
    "        contador++\n",
    "s[6] == sub[0] \n",
    ".....\n",
    "s[23] == sub[0] => M\n",
    "    s[23+1] == sub[0+1] => I\n",
    "        contador++\n",
    "...\n",
    "\n",
    "\n",
    "prinnt(contador) => 2\n",
    "\n",
    "\n"
   ]
  },
  {
   "cell_type": "code",
   "execution_count": 2,
   "metadata": {},
   "outputs": [
    {
     "name": "stdout",
     "output_type": "stream",
     "text": [
      "H\n",
      "     H     \n",
      "    HHH    \n",
      "   HHHHH   \n",
      "  HHHHHHH  \n",
      " HHHHHHHHH \n",
      "HHHHHHHHHHH\n",
      "   HHHHHH                  HHHHHH               \n",
      "   HHHHHH                  HHHHHH               \n",
      "   HHHHHH                  HHHHHH               \n",
      "   HHHHHH                  HHHHHH               \n",
      "   HHHHHH                  HHHHHH               \n",
      "   HHHHHH                  HHHHHH               \n",
      "   HHHHHH                  HHHHHH               \n",
      "   HHHHHHHHHHHHHHHHHHHHHHHHHHHHHH   \n",
      "   HHHHHHHHHHHHHHHHHHHHHHHHHHHHHH   \n",
      "   HHHHHHHHHHHHHHHHHHHHHHHHHHHHHH   \n",
      "   HHHHHH                  HHHHHH               \n",
      "   HHHHHH                  HHHHHH               \n",
      "   HHHHHH                  HHHHHH               \n",
      "   HHHHHH                  HHHHHH               \n",
      "   HHHHHH                  HHHHHH               \n",
      "   HHHHHH                  HHHHHH               \n",
      "   HHHHHH                  HHHHHH               \n",
      "                        HHHHHHHHHHH \n",
      "                         HHHHHHHHH  \n",
      "                          HHHHHHH   \n",
      "                           HHHHH    \n",
      "                            HHH     \n",
      "                             H      \n"
     ]
    }
   ],
   "source": [
    "s = input()\n",
    "print(\"H\")\n",
    "\n",
    "thickness = int(input()) # This must be an odd number\n",
    "c = 'H'\n",
    "\n",
    "# Top Cone\n",
    "for i in range(thickness):\n",
    "    print((c*i).rjust(thickness-1)+c+(c*i).ljust(thickness-1))\n",
    "\n",
    "# Top Pillars\n",
    "for i in range(thickness+1):\n",
    "    print((c*thickness).center(thickness*2)+(c*thickness).center(thickness*6))\n",
    "\n",
    "# Middle Belt\n",
    "for i in range((thickness+1)//2):\n",
    "    print((c*thickness*5).center(thickness*6))    \n",
    "\n",
    "# Bottom Pillars\n",
    "for i in range(thickness+1):\n",
    "    print((c*thickness).center(thickness*2)+(c*thickness).center(thickness*6))    \n",
    "\n",
    "# Bottom Cone\n",
    "for i in range(thickness):\n",
    "    print(((c*(thickness-i-1)).rjust(thickness)+c+(c*(thickness-i-1)).ljust(thickness)).rjust(thickness*6))"
   ]
  },
  {
   "cell_type": "code",
   "execution_count": 20,
   "metadata": {},
   "outputs": [
    {
     "name": "stdout",
     "output_type": "stream",
     "text": [
      "3.5 *\n",
      "6.5 *\n",
      "7 *\n",
      "['Pepa', 3.5]\n",
      "[['Raul', 3.5], ['Pepa', 3.5], ['Nacho', 6.5], ['Pato', 7]]\n",
      "[3.5, 6.5, 7]\n"
     ]
    }
   ],
   "source": [
    "def obtener_cal(elemento_lista):\n",
    "    return elemento_lista[1]\n",
    "\n",
    "alumnos = [\n",
    "            [\"Nacho\", 6.5], \n",
    "            [\"Pato\", 7], \n",
    "            [\"Raul\", 3.5],\n",
    "            [\"Pepa\", 3.5],\n",
    "        ]\n",
    "\n",
    "lista_ordenada = sorted(alumnos, key=lambda elemento_lista: elemento_lista[1])\n",
    "lista_notas = []\n",
    "\n",
    "for alumno in lista_ordenada:\n",
    "    nota = alumno[1]\n",
    "    if not nota in lista_notas:\n",
    "        lista_notas.append(nota)\n",
    "\n",
    "\n",
    "\n",
    "print(lista_ordenada[1])\n",
    "print(lista_ordenada)\n",
    "print(lista_notas)\n",
    "\n"
   ]
  },
  {
   "cell_type": "code",
   "execution_count": 19,
   "metadata": {},
   "outputs": [
    {
     "name": "stdout",
     "output_type": "stream",
     "text": [
      "False\n"
     ]
    }
   ],
   "source": [
    "pesos = [34.20, 56.40, 37]\n",
    "\n",
    "print(not 56.40 in pesos)"
   ]
  }
 ],
 "metadata": {
  "kernelspec": {
   "display_name": ".virtual",
   "language": "python",
   "name": "python3"
  },
  "language_info": {
   "codemirror_mode": {
    "name": "ipython",
    "version": 3
   },
   "file_extension": ".py",
   "mimetype": "text/x-python",
   "name": "python",
   "nbconvert_exporter": "python",
   "pygments_lexer": "ipython3",
   "version": "3.11.5"
  },
  "orig_nbformat": 4
 },
 "nbformat": 4,
 "nbformat_minor": 2
}
