{
 "cells": [
  {
   "cell_type": "markdown",
   "metadata": {},
   "source": [
    "1- Obtener nombre de los pokemons (350)\n",
    "2- Obtenr la evolucion de un pokemon (nombre)\n",
    "3- Obtener nombre de pjs LotR\n",
    "4- Obtener citas de un caracter dado del señor de los anillos"
   ]
  },
  {
   "cell_type": "code",
   "execution_count": null,
   "metadata": {},
   "outputs": [],
   "source": []
  }
 ],
 "metadata": {
  "language_info": {
   "name": "python"
  }
 },
 "nbformat": 4,
 "nbformat_minor": 2
}
