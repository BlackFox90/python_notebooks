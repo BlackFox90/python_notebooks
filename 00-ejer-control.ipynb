{
 "cells": [
  {
   "cell_type": "markdown",
   "metadata": {},
   "source": [
    "Claro, aquí te dejo 20 ejercicios para practicar el uso de la sentencia if, elif, y else en Python, incluyendo operadores lógicos and y or:\n",
    "\n",
    "1. Escribe un programa que determine si un número es positivo, negativo o cero.\n",
    "2. Crea un programa que determine si un número es par o impar.\n",
    "3. Desarrolla un programa que verifique si un número es divisible por 3 y 5.\n",
    "4. Escribe un programa que determine si una persona es mayor de edad o no, dada su edad.\n",
    "5. Crea un programa que verifique si una contraseña ingresada por el usuario es segura. Una contraseña segura contiene al menos 8 caracteres y al menos un número.\n",
    "6. Desarrolla un programa que determine si un año dado es un año bisiesto.\n",
    "7. Escribe un programa que clasifique a un estudiante en función de su calificación. A: 90 o más, B: 80-89, C: 70-79, D: 60-69, F: Menos de 60.\n",
    "8. Crea un programa que determine si una persona es elegible para una oferta de descuento. La oferta es válida si la persona es mayor de 18 años y ha realizado al menos 3 compras en los últimos 6 meses.\n",
    "9. Desarrolla un programa que clasifique un triángulo en función de sus lados. Equilátero: todos los lados son iguales, Isósceles: dos lados son iguales, Escaleno: todos los lados son diferentes.\n",
    "10. Escribe un programa que determine si una cadena de texto contiene al menos una vocal.\n",
    "11. Crea un programa que determine si un número es positivo y par.\n",
    "12. Desarrolla un programa que determine si un número es divisible por 4 o 7.\n",
    "13. Escribe un programa que determine si un año es bisiesto o si es divisible por 400.\n",
    "14. Crea un programa que verifique si una persona puede obtener una licencia de conducir. Debe tener al menos 18 años y haber aprobado un examen de manejo.\n",
    "15. Desarrolla un programa que determine si una persona puede votar. Debe tener al menos 18 años y ser ciudadano del país.\n",
    "16. Escribe un programa que determine si un número es negativo o si su valor absoluto es mayor que 10.\n",
    "17. Crea un programa que verifique si una cadena de texto contiene al menos una letra mayúscula y una letra minúscula.\n",
    "18. Desarrolla un programa que clasifique un número en función de su rango: 1-10, 11-20, 21-30, o superior a 30.\n",
    "19. Escribe un programa que determine si una persona puede obtener un descuento en una tienda. Debe ser mayor de 60 años o tener una membresía premium.\n",
    "20. Crea un programa que determine si un número es par y positivo o impar y negativo.\n",
    "\n",
    "Estos ejercicios te ayudarán a practicar el uso de las sentencias if, elif y else, junto con operadores lógicos and y or en Python.\n"
   ]
  },
  {
   "cell_type": "code",
   "execution_count": 3,
   "metadata": {},
   "outputs": [
    {
     "name": "stdout",
     "output_type": "stream",
     "text": [
      "el número 45 es positivo\n"
     ]
    }
   ],
   "source": [
    "# 1. Escribe un programa que determine si un número es positivo, negativo o cero.\n",
    "\n",
    "def determinar_n(numero):\n",
    "  \n",
    "    if numero < 0:\n",
    "        return f\"el número {numero} es negativo\"\n",
    "    if numero > 0:\n",
    "        return f\"el número {numero} es positivo\"\n",
    "    if numero == 0:\n",
    "        return \"el número es 0\"    \n",
    "\n",
    "print(determinar_n(45))\n"
   ]
  },
  {
   "cell_type": "code",
   "execution_count": 17,
   "metadata": {},
   "outputs": [
    {
     "name": "stdout",
     "output_type": "stream",
     "text": [
      "el número es par\n"
     ]
    }
   ],
   "source": [
    "# 2. Crea un programa que determine si un número es par o impar.\n",
    "\n",
    "def determinar_p_i(numero):\n",
    "\n",
    "    if numero%2 == 0:\n",
    "        return \"el número es par\"\n",
    "    else:\n",
    "        return \"el número es impar\"\n",
    "\n",
    "print(determinar_p_i(-20))"
   ]
  },
  {
   "cell_type": "code",
   "execution_count": 20,
   "metadata": {},
   "outputs": [
    {
     "name": "stdout",
     "output_type": "stream",
     "text": [
      "el numero 26745765 es divisible por 3 y 5\n"
     ]
    }
   ],
   "source": [
    "# 3. Desarrolla un programa que verifique si un número es divisible por 3 y 5.\n",
    "\n",
    "def es_divisible(numero):\n",
    "    \n",
    "    if numero%3 == 0 and numero%5 == 0:\n",
    "        return f\"el numero {numero} es divisible por 3 y 5\"\n",
    "    else:\n",
    "        return f\"el numero {numero} no es divisible por 3 y 5\"\n",
    "\n",
    "print(es_divisible(26745765))"
   ]
  },
  {
   "cell_type": "code",
   "execution_count": 33,
   "metadata": {},
   "outputs": [
    {
     "name": "stdout",
     "output_type": "stream",
     "text": [
      "La persona es menor de edad\n"
     ]
    }
   ],
   "source": [
    "# 4. Escribe un programa que determine si una persona es mayor de edad o no, dada su edad.\n",
    "\n",
    "def verificar_edad(años):\n",
    "    \n",
    "    if años >= 18:\n",
    "        return \"La persona es mayor de edad\"\n",
    "    else:\n",
    "        return \"La persona es menor de edad\"\n",
    "\n",
    "print(verificar_edad(5))"
   ]
  },
  {
   "cell_type": "code",
   "execution_count": 40,
   "metadata": {},
   "outputs": [
    {
     "name": "stdout",
     "output_type": "stream",
     "text": [
      "La contraseña no es segura\n"
     ]
    }
   ],
   "source": [
    "# 5. Crea un programa que verifique si una contraseña ingresada por el usuario es segura. \n",
    "# Una contraseña segura contiene al menos 8 caracteres y al menos un número.\n",
    "\n",
    "numeros = list(range(0, 10))\n",
    "\n",
    "def verificar_pass(contraseña):\n",
    "\n",
    "    if len(contraseña) < 8:\n",
    "        return \"La contraseña no es segura\"\n",
    "\n",
    "    for caracter in contraseña:\n",
    "        if caracter in str(numeros):\n",
    "            return \"La contraseña es segura\"\n",
    "        \n",
    "    return \"La contraseña no es segura\"\n",
    "\n",
    "\n",
    "\n",
    "print(verificar_pass(\"fejlllllllj\"))\n"
   ]
  },
  {
   "cell_type": "code",
   "execution_count": 54,
   "metadata": {},
   "outputs": [
    {
     "name": "stdout",
     "output_type": "stream",
     "text": [
      "es bisiesto\n"
     ]
    }
   ],
   "source": [
    "# 6. Desarrolla un programa que determine si un año dado es un año bisiesto.\n",
    "# Todos los años bisiestos son divisibles entre 4. Aquellos años que son divisibles entre 4, pero no entre 100, son bisiestos. \n",
    "# Los años que son divisibles entre 100, pero no entre 400, no son bisiestos. \n",
    "# Sin embargo, los años divisibles entre 100 y entre 400 sí que son bisiestos.\n",
    "\n",
    "def es_bisiesto(año):\n",
    "    if (año%4 == 0 and año%100 != 0) or (año%100 == 0 and año%400 == 0):\n",
    "        return \"es bisiesto\"\n",
    "    elif año%100 == 0 and año%400 != 0:\n",
    "        return \"no es bisiesto\"\n",
    "    else:\n",
    "        return \"no es bisiesto 2\"\n",
    "\n",
    "print(es_bisiesto(2024))"
   ]
  },
  {
   "cell_type": "code",
   "execution_count": 55,
   "metadata": {},
   "outputs": [
    {
     "name": "stdout",
     "output_type": "stream",
     "text": [
      "calificación: F\n"
     ]
    }
   ],
   "source": [
    "# 7. Escribe un programa que clasifique a un estudiante en función de su calificación. \n",
    "# A: 90 o más, B: 80-89, C: 70-79, D: 60-69, F: Menos de 60.\n",
    "\n",
    "def calificar_examen(nota):\n",
    "    \n",
    "    if nota >= 90:\n",
    "        return \"calificación: A\"\n",
    "    if nota >= 80 and nota <=89:\n",
    "        return \"calificación: B\"\n",
    "    if nota >= 70 and nota <=79:\n",
    "        return \"calificación: C\"\n",
    "    if nota >= 60 and nota <=69:\n",
    "        return \"calificación: D\"\n",
    "    if nota <60:\n",
    "        return \"calificación: F\"\n",
    "    \n",
    "print(calificar_examen(30))\n"
   ]
  },
  {
   "cell_type": "code",
   "execution_count": 74,
   "metadata": {},
   "outputs": [
    {
     "name": "stdout",
     "output_type": "stream",
     "text": [
      "11\n",
      "[6, 7, 8, 9, 10, 11]\n",
      "EL USUARIO CUENTA CON DESCUENTO\n"
     ]
    }
   ],
   "source": [
    "# 8. Crea un programa que determine si una persona es elegible para una oferta de descuento. \n",
    "# La oferta es válida si la persona es mayor de 18 años y ha realizado al menos 3 compras en los últimos 6 meses.\n",
    "\n",
    "from datetime import datetime\n",
    "\n",
    "now = datetime.now()\n",
    "mes = now.month\n",
    "\n",
    "print(mes)\n",
    "\n",
    "rango_meses = list(range(mes - 5, mes +1))\n",
    "print(rango_meses)\n",
    "\n",
    "historial_compras = [\n",
    "    {\n",
    "        \"mes\": 1,\n",
    "        \"gasto\": 12.50,\n",
    "    },\n",
    "    {\n",
    "        \"mes\": 3,\n",
    "        \"gasto\": 12.50,\n",
    "    },\n",
    "    {\n",
    "        \"mes\": 5,\n",
    "        \"gasto\": 12.50,\n",
    "    },\n",
    "    {\n",
    "        \"mes\": 5,\n",
    "        \"gasto\": 12.50,\n",
    "    },\n",
    "        {\n",
    "        \"mes\": 7,\n",
    "        \"gasto\": 2.50,\n",
    "    },\n",
    "    {\n",
    "        \"mes\": 8,\n",
    "        \"gasto\": 42.50,\n",
    "    },\n",
    "    {\n",
    "        \"mes\": 10,\n",
    "        \"gasto\": 8.50,\n",
    "    },\n",
    "    {\n",
    "        \"mes\": 10,\n",
    "        \"gasto\": 44.50,\n",
    "    }\n",
    "]\n",
    "\n",
    "def aprobado_descuento(edad, historial_compras):\n",
    "    mes_de_compra = 0\n",
    "\n",
    "    if edad < 18:\n",
    "        return \"El usuario no tiene descuento\"\n",
    "    \n",
    "    for item in historial_compras:\n",
    "        if item[\"mes\"] in rango_meses:\n",
    "            mes_de_compra += 1\n",
    "            if mes_de_compra > 2:\n",
    "                return \"EL USUARIO CUENTA CON DESCUENTO\"\n",
    "        \n",
    "print(aprobado_descuento(20, historial_compras))\n",
    "\n",
    "\n"
   ]
  },
  {
   "cell_type": "code",
   "execution_count": 77,
   "metadata": {},
   "outputs": [
    {
     "name": "stdout",
     "output_type": "stream",
     "text": [
      "El triángulo es Equilátero\n",
      "El triángulo es Isósceles\n",
      "El triángulo es Escaleno\n"
     ]
    }
   ],
   "source": [
    "# 9. Desarrolla un programa que clasifique un triángulo en función de sus lados. \n",
    "# Equilátero: todos los lados son iguales, Isósceles: dos lados son iguales, Escaleno: todos los lados son diferentes.\n",
    "\n",
    "def nombrar_triangulo(lado_a, lado_b, lado_c):\n",
    "    \n",
    "    if lado_a == lado_b and lado_b == lado_c:\n",
    "        return \"El triángulo es Equilátero\"\n",
    "    if lado_a == lado_b or lado_a == lado_c or lado_b == lado_c:\n",
    "        return \"El triángulo es Isósceles\"\n",
    "    if lado_a != lado_b and lado_a != lado_c and lado_b != lado_c:\n",
    "        return \"El triángulo es Escaleno\"\n",
    "    \n",
    "print(nombrar_triangulo(60, 60, 60))\n",
    "print(nombrar_triangulo(60, 60, 30))\n",
    "print(nombrar_triangulo(60, 40, 20))\n",
    "\n",
    "\n"
   ]
  },
  {
   "cell_type": "code",
   "execution_count": 6,
   "metadata": {},
   "outputs": [
    {
     "name": "stdout",
     "output_type": "stream",
     "text": [
      "la cadena de text contiene vocales\n"
     ]
    }
   ],
   "source": [
    "# 10. Escribe un programa que determine si una cadena de texto contiene al menos una vocal.\n",
    "\n",
    "def contener_vocal(cadena_texto):\n",
    "    \n",
    "    vocales = [\"a\", \"e\", \"i\", \"o\", \"u\", \"A\", \"E\", \"I\", \"O\", \"U\"]\n",
    "    \n",
    "    for letra in cadena_texto:\n",
    "        if letra in vocales:\n",
    "            return \"la cadena de text contiene vocales\"\n",
    "        \n",
    "print(contener_vocal(\"msadf\"))\n"
   ]
  },
  {
   "cell_type": "code",
   "execution_count": 34,
   "metadata": {},
   "outputs": [
    {
     "name": "stdout",
     "output_type": "stream",
     "text": [
      "None\n"
     ]
    }
   ],
   "source": [
    "# 11. Crea un programa que determine si un número es positivo y par.\n",
    "\n",
    "def verificar_numero(numero):\n",
    "    \n",
    "    if numero%2 == 0 and numero > 0:\n",
    "        return \"el número es positivo y par\"\n",
    "\n",
    "print(verificar_numero(-80)) "
   ]
  },
  {
   "cell_type": "code",
   "execution_count": 38,
   "metadata": {},
   "outputs": [
    {
     "name": "stdout",
     "output_type": "stream",
     "text": [
      "None\n"
     ]
    }
   ],
   "source": [
    "# 12. Desarrolla un programa que determine si un número es divisible por 4 o 7.\n",
    "def es_divisible(numero):\n",
    "    \n",
    "    if numero%4 == 0:\n",
    "        return \"el número es divisible por 4\"\n",
    "    if numero%7 == 0:\n",
    "        return \"el número es divisible por 7\"\n",
    "\n",
    "print(es_divisible(31))"
   ]
  },
  {
   "cell_type": "code",
   "execution_count": 15,
   "metadata": {},
   "outputs": [
    {
     "name": "stdout",
     "output_type": "stream",
     "text": [
      "False\n"
     ]
    }
   ],
   "source": [
    "# 13. Escribe un programa que determine si un año es bisiesto o si es divisible por 400.\n",
    "año = 401\n",
    "\n",
    "def es_bisiesto(año):\n",
    "    if (año%4 == 0 and año%100 != 0) or (año%100 == 0 and año%400 == 0):\n",
    "        return True\n",
    "    elif año%100 == 0 and año%400 != 0:\n",
    "        return False\n",
    "    else:\n",
    "        return False\n",
    "    \n",
    "if es_bisiesto(año) == False:\n",
    "    if año%400 == 0:\n",
    "        print(\"El año es divisible por 400 pero no es bisiesto\") \n",
    "\n",
    "print(es_bisiesto(año))\n"
   ]
  },
  {
   "cell_type": "code",
   "execution_count": 17,
   "metadata": {},
   "outputs": [
    {
     "name": "stdout",
     "output_type": "stream",
     "text": [
      "es divisible por 400 -2800\n",
      "es bisiesto -2800 True\n",
      "es divisible por 400 -2400\n",
      "es bisiesto -2400 True\n",
      "es divisible por 400 -2000\n",
      "es bisiesto -2000 True\n",
      "es divisible por 400 -1600\n",
      "es bisiesto -1600 True\n",
      "es divisible por 400 -1200\n",
      "es bisiesto -1200 True\n",
      "es divisible por 400 -800\n",
      "es bisiesto -800 True\n",
      "es divisible por 400 -400\n",
      "es bisiesto -400 True\n",
      "es divisible por 400 0\n",
      "es bisiesto 0 True\n",
      "es divisible por 400 400\n",
      "es bisiesto 400 True\n",
      "es divisible por 400 800\n",
      "es bisiesto 800 True\n",
      "es divisible por 400 1200\n",
      "es bisiesto 1200 True\n",
      "es divisible por 400 1600\n",
      "es bisiesto 1600 True\n",
      "es divisible por 400 2000\n",
      "es bisiesto 2000 True\n"
     ]
    }
   ],
   "source": [
    "for año in range(-3000,2024):\n",
    "    if es_bisiesto(año) and año%400 == 0:\n",
    "        print(\"es divisible por 400\", año)\n",
    "        print(\"es bisiesto\", año, es_bisiesto(año))\n",
    "\n"
   ]
  },
  {
   "cell_type": "code",
   "execution_count": 41,
   "metadata": {},
   "outputs": [
    {
     "name": "stdout",
     "output_type": "stream",
     "text": [
      "[{'nombre': 'Raul', 'notas examenes': [2, 4, 7], 'edad': 20}, {'nombre': 'Camila', 'notas examenes': [2, 4, 8], 'edad': 50}]\n"
     ]
    }
   ],
   "source": [
    "# 14. Crea un programa que verifique si una persona puede obtener una licencia de conducir. \n",
    "# Debe tener al menos 18 años y haber aprobado un examen de manejo.\n",
    "usuarios = [{\n",
    "    \"nombre\": \"Nicol\",\n",
    "    \"notas examenes\": [4, 2, 9],\n",
    "    \"edad\": 16\n",
    "    },{\n",
    "        \"nombre\": \"Raul\",\n",
    "        \"notas examenes\": [2, 4, 7],\n",
    "        \"edad\": 20\n",
    "    },{\n",
    "        \"nombre\": \"Camila\",\n",
    "        \"notas examenes\": [2, 4, 8],\n",
    "        \"edad\": 50\n",
    "    }]\n",
    "\n",
    "def obtener_licencia(usuarios):\n",
    "    usuarios_aprobados = []\n",
    "    \n",
    "    for usuario in usuarios:\n",
    "                \n",
    "        for nota in usuario[\"notas examenes\"]:\n",
    "            if nota >= 6:\n",
    "                usuarios_aprobados.append(usuario)\n",
    "\n",
    "        if usuario[\"edad\"] < 18:\n",
    "            usuarios_aprobados.remove(usuario)\n",
    "    \n",
    "    return usuarios_aprobados\n",
    "            \n",
    "print(obtener_licencia(usuarios))"
   ]
  },
  {
   "cell_type": "code",
   "execution_count": 46,
   "metadata": {},
   "outputs": [
    {
     "name": "stdout",
     "output_type": "stream",
     "text": [
      "el ciudadano puede votar\n"
     ]
    }
   ],
   "source": [
    "# 15. Desarrolla un programa que determine si una persona puede votar. Debe tener al menos 18 años y ser ciudadano del país.\n",
    "\n",
    "def poder_votar(edad, nacionalidad):\n",
    "    \n",
    "    if edad >= 18 and nacionalidad == \"Argentina\":\n",
    "        return \"el ciudadano puede votar\"\n",
    "    else:\n",
    "        return \"el ciudadano no puede votar\"\n",
    "    \n",
    "print(poder_votar(19, \"Argentina\"))"
   ]
  },
  {
   "cell_type": "code",
   "execution_count": 85,
   "metadata": {},
   "outputs": [
    {
     "name": "stdout",
     "output_type": "stream",
     "text": [
      "el numero es negativo\n"
     ]
    }
   ],
   "source": [
    "# 16. Escribe un programa que determine si un número es negativo o si su valor absoluto es mayor que 10.\n",
    "\n",
    "def determinar_numero(numero):\n",
    "    va = abs(numero)\n",
    "\n",
    "    if numero < 0:\n",
    "        print(\"el numero es negativo\")\n",
    "    \n",
    "    if va > 10:\n",
    "        print(\"el valor absoluto del número es mayor a 10\")\n",
    "    \n",
    "determinar_numero(-9)"
   ]
  },
  {
   "cell_type": "code",
   "execution_count": 17,
   "metadata": {},
   "outputs": [
    {
     "name": "stdout",
     "output_type": "stream",
     "text": [
      "La cadena tiene mayusculas\n"
     ]
    }
   ],
   "source": [
    "# 17. Crea un programa que verifique si una cadena de texto contiene al menos una letra mayúscula y una letra minúscula.\n",
    "\n",
    "def verificar_letra(cadena_texto):\n",
    "    es_mayuscula = False\n",
    "    es_minuscula = False\n",
    "\n",
    "    for caracter in cadena_texto:\n",
    "        if caracter.isupper():\n",
    "            es_mayuscula = True\n",
    "        elif caracter.islower():\n",
    "            es_minuscula = True\n",
    "\n",
    "    if es_mayuscula and es_minuscula:\n",
    "        return \"La cadena de texto tiene mayúsculas y minúsculas\"\n",
    "    elif es_mayuscula:\n",
    "        return \"La cadena tiene solo mayusculas\"\n",
    "    elif es_minuscula:\n",
    "        return \"la cadena tiene solo minusculas\"\n",
    "    \n",
    "print(verificar_letra(\"LEON\"))"
   ]
  },
  {
   "cell_type": "code",
   "execution_count": 9,
   "metadata": {},
   "outputs": [
    {
     "name": "stdout",
     "output_type": "stream",
     "text": [
      "grupo 3\n"
     ]
    }
   ],
   "source": [
    "# 18. Desarrolla un programa que clasifique un número en función de su rango: 1-10, 11-20, 21-30, o superior a 30.\n",
    "\n",
    "def calificar_n(numero):\n",
    "\n",
    "    if numero >= 1 and numero <= 10:\n",
    "        return \"grupo 1\"\n",
    "    if numero >= 11 and numero <= 20:\n",
    "        return \"grupo 2\"\n",
    "    if numero >= 21 and numero <= 30:\n",
    "        return \"grupo 3\"\n",
    "    if numero >= 30:\n",
    "        return \"grupo 4\"\n",
    "    \n",
    "print(calificar_n(25))"
   ]
  },
  {
   "cell_type": "code",
   "execution_count": 86,
   "metadata": {},
   "outputs": [
    {
     "name": "stdout",
     "output_type": "stream",
     "text": [
      "persona aprobada para descuento\n"
     ]
    }
   ],
   "source": [
    "# 19. Escribe un programa que determine si una persona puede obtener un descuento en una tienda. \n",
    "# Debe ser mayor de 60 años o tener una membresía premium.\n",
    "\n",
    "def obtener_descuento(edad, membresia):\n",
    "\n",
    "    if edad >= 60 or membresia == \"premium\":\n",
    "        return \"persona aprobada para descuento\"\n",
    "    else:\n",
    "        return \"la persona no cumple con los requisitos para el descuento\"\n",
    "    \n",
    "print(obtener_descuento(66, \"gold\"))"
   ]
  },
  {
   "cell_type": "code",
   "execution_count": 87,
   "metadata": {},
   "outputs": [
    {
     "name": "stdout",
     "output_type": "stream",
     "text": [
      "None\n"
     ]
    }
   ],
   "source": [
    "# 20. Crea un programa que determine si un número es par y positivo o impar y negativo.\n",
    "\n",
    "def reconocer_n(numero):\n",
    "\n",
    "    if numero%2 == 0 and numero > 0:\n",
    "        return \"el número es par y positivo\"\n",
    "    \n",
    "    elif numero%2 != 0 and numero < 0:\n",
    "        return \"el numero es impar y negativo\"\n",
    "    \n",
    "print(reconocer_n(21))"
   ]
  },
  {
   "cell_type": "markdown",
   "metadata": {},
   "source": [
    "1. Suma de valores: Dada una lista de diccionarios, calcula la suma de los valores de una clave específica en todos los diccionarios.\n",
    "\n",
    "2. Promedio de edades: Dada una lista de personas representadas como diccionarios, calcula el promedio de edades.\n",
    "\n",
    "3. Buscar clave: Dada una lista de diccionarios, busca si una clave específica existe en al menos uno de los diccionarios.\n",
    "\n",
    "4. Filtrar diccionarios: Dada una lista de diccionarios que representan productos, filtra los productos que tienen un precio superior a un valor dado.\n",
    "\n",
    "5. Contar elementos: Dada una lista de diccionarios que representan estudiantes y sus calificaciones, cuenta cuántos estudiantes tienen una calificación superior a un valor dado.\n",
    "\n",
    "6. Calificaciones promedio: Dada una lista de diccionarios que representan estudiantes y sus calificaciones, calcula el promedio de calificaciones de todos los estudiantes.\n",
    "\n",
    "7. Mayor valor en clave: Dada una lista de diccionarios con datos numéricos, encuentra el diccionario que tiene el valor máximo en una clave específica.\n",
    "\n",
    "8. Menor valor en clave: Dada una lista de diccionarios con datos numéricos, encuentra el diccionario que tiene el valor mínimo en una clave específica.\n",
    "\n",
    "9. Contar ocurrencias: Dada una lista de diccionarios que contienen palabras, cuenta cuántas veces aparece una palabra específica en todos los diccionarios.\n",
    "\n",
    "10. Eliminar duplicados: Dada una lista de diccionarios que contienen números, elimina los diccionarios duplicados basados en sus valores.\n",
    "\n",
    "11. Ordenar por clave: Dada una lista de diccionarios con información de libros, ordénalos alfabéticamente por el título del libro.\n",
    "\n",
    "12. Filtrar por categoría: Dada una lista de diccionarios que representan productos con categorías, filtra los productos que pertenecen a una categoría específica.\n",
    "\n",
    "13. Contar elementos únicos: Dada una lista de diccionarios con datos numéricos, cuenta cuántos valores únicos hay en una clave específica.\n",
    "\n",
    "14. Buscar coincidencias: Dada una lista de diccionarios con nombres de personas, busca si un nombre específico existe en alguno de los diccionarios.\n",
    "\n",
    "15. Calificaciones máximas: Dada una lista de diccionarios que representan estudiantes y sus calificaciones, encuentra a los estudiantes que tienen la calificación máxima.\n",
    "\n",
    "16. Calificaciones mínimas: Dada una lista de diccionarios que representan estudiantes y sus calificaciones, encuentra a los estudiantes que tienen la calificación mínima.\n",
    "\n",
    "17. Filtrar por género: Dada una lista de diccionarios que representan personas con género, filtra las personas que tienen un género específico.\n",
    "\n",
    "18. Calificaciones aprobatorias: Dada una lista de diccionarios que representan estudiantes y sus calificaciones, encuentra a los estudiantes que tienen calificaciones aprobatorias (por encima de 60).\n",
    "\n",
    "19. Contar elementos con clave ausente: Dada una lista de diccionarios con datos, cuenta cuántos diccionarios no tienen una clave específica.\n",
    "\n",
    "20. Modificar valores: Dada una lista de diccionarios que representan productos y sus precios, incrementa todos los precios en un porcentaje específico.\n",
    "\n",
    "Estos ejercicios te permitirán practicar la iteración sobre listas de diccionarios utilizando la sentencia for in en Python.\n"
   ]
  },
  {
   "cell_type": "code",
   "execution_count": 49,
   "metadata": {},
   "outputs": [
    {
     "name": "stdout",
     "output_type": "stream",
     "text": [
      "el stock total es de 43\n"
     ]
    }
   ],
   "source": [
    "# 1. Suma de valores: Dada una lista de diccionarios, calcula la suma de los valores de una clave específica en todos los diccionarios.\n",
    "\n",
    "productos_en_venta = [\n",
    "    {\"producto\": \"Laptop\", \"precio\": 1200, \"stock\": 5},\n",
    "    {\"producto\": \"Teléfono\", \"precio\": 500, \"stock\": 10},\n",
    "    {\"producto\": \"Tablet\", \"precio\": 300, \"stock\": 8}\n",
    "]\n",
    "\n",
    "def calcular_stock_total(productos_en_venta):\n",
    "    stock_total = []\n",
    "    suma_stock = 0\n",
    "\n",
    "    for producto in productos_en_venta:\n",
    "        stock_total.append(producto[\"stock\"])\n",
    "\n",
    "        for stock in stock_total:\n",
    "            suma_stock += stock\n",
    "\n",
    "\n",
    "    return suma_stock\n",
    "\n",
    "print(\"el stock total es de\", calcular_stock_total(productos_en_venta))"
   ]
  },
  {
   "cell_type": "code",
   "execution_count": 57,
   "metadata": {},
   "outputs": [
    {
     "name": "stdout",
     "output_type": "stream",
     "text": [
      "25.666666666666668\n"
     ]
    }
   ],
   "source": [
    "# 2. Promedio de edades: Dada una lista de personas representadas como diccionarios, calcula el promedio de edades.\n",
    "\n",
    "ciudadanos = [\n",
    "    {\"nombre\": \"Juan\", \"edad\": 25, \"ciudad\": \"A\"},\n",
    "    {\"nombre\": \"María\", \"edad\": 30, \"ciudad\": \"B\"},\n",
    "    {\"nombre\": \"Carlos\", \"edad\": 22, \"ciudad\": \"C\"}\n",
    "]\n",
    "\n",
    "def promedio_edades(ciudadanos):\n",
    "    total_edades = sum(persona[\"edad\"] for persona in ciudadanos)\n",
    "    cantidad_personas = len(ciudadanos)\n",
    "\n",
    "    if cantidad_personas == 0:\n",
    "        return 0 \n",
    "    else:\n",
    "        return total_edades / cantidad_personas\n",
    "\n",
    "\n",
    "print(promedio_edades(ciudadanos))"
   ]
  },
  {
   "cell_type": "code",
   "execution_count": null,
   "metadata": {},
   "outputs": [],
   "source": [
    "# 3. Buscar clave: Dada una lista de diccionarios, busca si una clave específica existe en al menos uno de los diccionarios.\n",
    "\n"
   ]
  },
  {
   "cell_type": "code",
   "execution_count": null,
   "metadata": {},
   "outputs": [],
   "source": [
    "# 4. Filtrar diccionarios: Dada una lista de diccionarios que representan productos, filtra los productos que tienen un precio superior a un valor dado.\n",
    "\n"
   ]
  },
  {
   "cell_type": "code",
   "execution_count": null,
   "metadata": {},
   "outputs": [],
   "source": [
    "# 5. Contar elementos: Dada una lista de diccionarios que representan estudiantes y sus calificaciones, cuenta cuántos estudiantes tienen una calificación superior a un valor dado.\n",
    "\n"
   ]
  },
  {
   "cell_type": "code",
   "execution_count": null,
   "metadata": {},
   "outputs": [],
   "source": [
    "# 6. Calificaciones promedio: Dada una lista de diccionarios que representan estudiantes y sus calificaciones, calcula el promedio de calificaciones de todos los estudiantes.\n",
    "\n"
   ]
  },
  {
   "cell_type": "code",
   "execution_count": null,
   "metadata": {},
   "outputs": [],
   "source": [
    "# 7. Mayor valor en clave: Dada una lista de diccionarios con datos numéricos, encuentra el diccionario que tiene el valor máximo en una clave específica.\n",
    "\n"
   ]
  },
  {
   "cell_type": "code",
   "execution_count": null,
   "metadata": {},
   "outputs": [],
   "source": [
    "# 8. Menor valor en clave: Dada una lista de diccionarios con datos numéricos, encuentra el diccionario que tiene el valor mínimo en una clave específica.\n",
    "\n",
    "\n"
   ]
  },
  {
   "cell_type": "code",
   "execution_count": null,
   "metadata": {},
   "outputs": [],
   "source": [
    "# 9. Contar ocurrencias: Dada una lista de diccionarios que contienen palabras, cuenta cuántas veces aparece una palabra específica en todos los diccionarios.\n"
   ]
  },
  {
   "cell_type": "code",
   "execution_count": null,
   "metadata": {},
   "outputs": [],
   "source": [
    "# 10. Eliminar duplicados: Dada una lista de diccionarios que contienen números, elimina los diccionarios duplicados basados en sus valores."
   ]
  }
 ],
 "metadata": {
  "kernelspec": {
   "display_name": ".virtual",
   "language": "python",
   "name": "python3"
  },
  "language_info": {
   "codemirror_mode": {
    "name": "ipython",
    "version": 3
   },
   "file_extension": ".py",
   "mimetype": "text/x-python",
   "name": "python",
   "nbconvert_exporter": "python",
   "pygments_lexer": "ipython3",
   "version": "3.11.5"
  }
 },
 "nbformat": 4,
 "nbformat_minor": 2
}
