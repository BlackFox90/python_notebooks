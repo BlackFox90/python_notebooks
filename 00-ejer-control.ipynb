{
 "cells": [
  {
   "cell_type": "markdown",
   "metadata": {},
   "source": [
    "Claro, aquí te dejo 20 ejercicios para practicar el uso de la sentencia if, elif, y else en Python, incluyendo operadores lógicos and y or:\n",
    "\n",
    "1. Escribe un programa que determine si un número es positivo, negativo o cero.\n",
    "2. Crea un programa que determine si un número es par o impar.\n",
    "3. Desarrolla un programa que verifique si un número es divisible por 3 y 5.\n",
    "4. Escribe un programa que determine si una persona es mayor de edad o no, dada su edad.\n",
    "5. Crea un programa que verifique si una contraseña ingresada por el usuario es segura. Una contraseña segura contiene al menos 8 caracteres y al menos un número.\n",
    "6. Desarrolla un programa que determine si un año dado es un año bisiesto.\n",
    "7. Escribe un programa que clasifique a un estudiante en función de su calificación. A: 90 o más, B: 80-89, C: 70-79, D: 60-69, F: Menos de 60.\n",
    "8. Crea un programa que determine si una persona es elegible para una oferta de descuento. La oferta es válida si la persona es mayor de 18 años y ha realizado al menos 3 compras en los últimos 6 meses.\n",
    "9. Desarrolla un programa que clasifique un triángulo en función de sus lados. Equilátero: todos los lados son iguales, Isósceles: dos lados son iguales, Escaleno: todos los lados son diferentes.\n",
    "10. Escribe un programa que determine si una cadena de texto contiene al menos una vocal.\n",
    "11. Crea un programa que determine si un número es positivo y par.\n",
    "12. Desarrolla un programa que determine si un número es divisible por 4 o 7.\n",
    "13. Escribe un programa que determine si un año es bisiesto o si es divisible por 400.\n",
    "14. Crea un programa que verifique si una persona puede obtener una licencia de conducir. Debe tener al menos 18 años y haber aprobado un examen de manejo.\n",
    "15. Desarrolla un programa que determine si una persona puede votar. Debe tener al menos 18 años y ser ciudadano del país.\n",
    "16. Escribe un programa que determine si un número es negativo o si su valor absoluto es mayor que 10.\n",
    "17. Crea un programa que verifique si una cadena de texto contiene al menos una letra mayúscula y una letra minúscula.\n",
    "18. Desarrolla un programa que clasifique un número en función de su rango: 1-10, 11-20, 21-30, o superior a 30.\n",
    "19. Escribe un programa que determine si una persona puede obtener un descuento en una tienda. Debe ser mayor de 60 años o tener una membresía premium.\n",
    "20. Crea un programa que determine si un número es par y positivo o impar y negativo.\n",
    "\n",
    "Estos ejercicios te ayudarán a practicar el uso de las sentencias if, elif y else, junto con operadores lógicos and y or en Python.\n"
   ]
  },
  {
   "cell_type": "code",
   "execution_count": 9,
   "metadata": {},
   "outputs": [
    {
     "name": "stdout",
     "output_type": "stream",
     "text": [
      "el número 45 es positivo\n"
     ]
    }
   ],
   "source": [
    "# 1. Escribe un programa que determine si un número es positivo, negativo o cero.\n",
    "\n",
    "def determinar_n(numero):\n",
    "  \n",
    "    if numero < 0:\n",
    "        return f\"el número {numero} es negativo\"\n",
    "    if numero > 0:\n",
    "        return f\"el número {numero} es positivo\"\n",
    "    if numero == 0:\n",
    "        return \"el número es 0\"    \n",
    "\n",
    "print(determinar_n(45))\n"
   ]
  },
  {
   "cell_type": "code",
   "execution_count": 12,
   "metadata": {},
   "outputs": [
    {
     "name": "stdout",
     "output_type": "stream",
     "text": [
      "el numero es impar\n"
     ]
    }
   ],
   "source": [
    "# 2. Crea un programa que determine si un número es par o impar.\n",
    "\n",
    "def determinar_p_i(numero):\n",
    "\n",
    "    if numero%2 == 0:\n",
    "        return \"el número es par\"\n",
    "    else:\n",
    "        return \"el número es impar\"\n",
    "\n",
    "print(determinar_p_i(5))"
   ]
  },
  {
   "cell_type": "code",
   "execution_count": 19,
   "metadata": {},
   "outputs": [
    {
     "name": "stdout",
     "output_type": "stream",
     "text": [
      "el numero 21 no es divisible por 3 y 5\n"
     ]
    }
   ],
   "source": [
    "# 3. Desarrolla un programa que verifique si un número es divisible por 3 y 5.\n",
    "\n",
    "def es_divisible(numero):\n",
    "    if numero%3 == 0 and numero%5 == 0:\n",
    "        return f\"el numero {numero} es divisible por 3 y 5\"\n",
    "    else:\n",
    "        return f\"el numero {numero} no es divisible por 3 y 5\"\n",
    "\n",
    "print(es_divisible(21))"
   ]
  },
  {
   "cell_type": "code",
   "execution_count": 33,
   "metadata": {},
   "outputs": [
    {
     "name": "stdout",
     "output_type": "stream",
     "text": [
      "La persona es menor de edad\n"
     ]
    }
   ],
   "source": [
    "# 4. Escribe un programa que determine si una persona es mayor de edad o no, dada su edad.\n",
    "\n",
    "def verificar_edad(años):\n",
    "    if años >= 18:\n",
    "        return \"La persona es mayor de edad\"\n",
    "    else:\n",
    "        return \"La persona es menor de edad\"\n",
    "\n",
    "print(verificar_edad(5))"
   ]
  },
  {
   "cell_type": "code",
   "execution_count": 40,
   "metadata": {},
   "outputs": [
    {
     "name": "stdout",
     "output_type": "stream",
     "text": [
      "La contraseña es segura\n"
     ]
    }
   ],
   "source": [
    "# 5. Crea un programa que verifique si una contraseña ingresada por el usuario es segura. \n",
    "# Una contraseña segura contiene al menos 8 caracteres y al menos un número.\n",
    "\n",
    "def verificar_pass(contraseña):\n",
    "\n",
    "    if len(contraseña) >= 8:\n",
    "        return \"La contraseña es segura\"\n",
    "\n",
    "#    for caracter in contraseña:\n",
    "\n",
    "\n",
    "print(verificar_pass(\"fe5jjjjjj\"))\n"
   ]
  },
  {
   "cell_type": "code",
   "execution_count": null,
   "metadata": {},
   "outputs": [],
   "source": [
    "# 6. Desarrolla un programa que determine si un año dado es un año bisiesto.\n"
   ]
  },
  {
   "cell_type": "code",
   "execution_count": 11,
   "metadata": {},
   "outputs": [
    {
     "name": "stdout",
     "output_type": "stream",
     "text": [
      "calificación: F\n"
     ]
    }
   ],
   "source": [
    "# 7. Escribe un programa que clasifique a un estudiante en función de su calificación. \n",
    "# A: 90 o más, B: 80-89, C: 70-79, D: 60-69, F: Menos de 60.\n",
    "\n",
    "def calificar_examen(nota):\n",
    "    if nota >= 90:\n",
    "        return \"calificación: A\"\n",
    "    if nota >= 80 and nota <=89:\n",
    "        return \"calificación: B\"\n",
    "    if nota >= 70 and nota <=79:\n",
    "        return \"calificación: C\"\n",
    "    if nota >= 60 and nota <=69:\n",
    "        return \"calificación: D\"\n",
    "    if nota <60:\n",
    "        return \"calificación: F\"\n",
    "    \n",
    "print(calificar_examen(59))\n"
   ]
  },
  {
   "cell_type": "code",
   "execution_count": null,
   "metadata": {},
   "outputs": [],
   "source": [
    "# 8. Crea un programa que determine si una persona es elegible para una oferta de descuento. \n",
    "# La oferta es válida si la persona es mayor de 18 años y ha realizado al menos 3 compras en los últimos 6 meses.\n"
   ]
  },
  {
   "cell_type": "code",
   "execution_count": 15,
   "metadata": {},
   "outputs": [
    {
     "name": "stdout",
     "output_type": "stream",
     "text": [
      "El triángulo es Escaleno\n"
     ]
    }
   ],
   "source": [
    "# 9. Desarrolla un programa que clasifique un triángulo en función de sus lados. \n",
    "# Equilátero: todos los lados son iguales, Isósceles: dos lados son iguales, Escaleno: todos los lados son diferentes.\n",
    "\n",
    "def nombrar_triangulo(lado_a, lado_b, lado_c):\n",
    "    if lado_a == lado_b and lado_b == lado_c:\n",
    "        return \"El triángulo es Equilátero\"\n",
    "    if lado_a == lado_b or lado_a == lado_c or lado_b == lado_c:\n",
    "        return \"El triángulo es Isósceles\"\n",
    "    if lado_a != lado_b and lado_a != lado_c and lado_b != lado_c:\n",
    "        return \"El triángulo es Escaleno\"\n",
    "    \n",
    "print(nombrar_triangulo(23, 56, 60))\n",
    "\n",
    "\n"
   ]
  },
  {
   "cell_type": "code",
   "execution_count": 31,
   "metadata": {},
   "outputs": [
    {
     "name": "stdout",
     "output_type": "stream",
     "text": [
      "None\n"
     ]
    }
   ],
   "source": [
    "# 10. Escribe un programa que determine si una cadena de texto contiene al menos una vocal.\n",
    "vocales = [\"a\", \"e\", \"i\", \"o\", \"u\", \"A\", \"E\", \"I\", \"O\", \"U\"]\n",
    "\n",
    "def contener_vocal(cadena_texto):\n",
    "    for letra in cadena_texto:\n",
    "        if letra in vocales:\n",
    "            return \"la cadena de text contiene vocales\"\n",
    "        \n",
    "print(contener_vocal(\"msdf\"))\n"
   ]
  },
  {
   "cell_type": "code",
   "execution_count": 34,
   "metadata": {},
   "outputs": [
    {
     "name": "stdout",
     "output_type": "stream",
     "text": [
      "None\n"
     ]
    }
   ],
   "source": [
    "# 11. Crea un programa que determine si un número es positivo y par.\n",
    "\n",
    "def verificar_numero(numero):\n",
    "    if numero%2 == 0 and numero > 0:\n",
    "        return \"el número es positivo y par\"\n",
    "\n",
    "print(verificar_numero(-80)) "
   ]
  },
  {
   "cell_type": "code",
   "execution_count": 38,
   "metadata": {},
   "outputs": [
    {
     "name": "stdout",
     "output_type": "stream",
     "text": [
      "None\n"
     ]
    }
   ],
   "source": [
    "# 12. Desarrolla un programa que determine si un número es divisible por 4 o 7.\n",
    "def es_divisible(numero):\n",
    "    if numero%4 == 0:\n",
    "        return \"el número es divisible por 4\"\n",
    "    if numero%7 == 0:\n",
    "        return \"el número es divisible por 7\"\n",
    "\n",
    "print(es_divisible(31))"
   ]
  },
  {
   "cell_type": "code",
   "execution_count": null,
   "metadata": {},
   "outputs": [],
   "source": [
    "# 13. Escribe un programa que determine si un año es bisiesto o si es divisible por 400.\n",
    "\n"
   ]
  },
  {
   "cell_type": "code",
   "execution_count": null,
   "metadata": {},
   "outputs": [],
   "source": [
    "# 14. Crea un programa que verifique si una persona puede obtener una licencia de conducir. \n",
    "# Debe tener al menos 18 años y haber aprobado un examen de manejo.\n",
    "\n",
    "def obtener_licencia(edad, nota):\n",
    "    if edad >= 18:\n",
    "\n"
   ]
  },
  {
   "cell_type": "code",
   "execution_count": 46,
   "metadata": {},
   "outputs": [
    {
     "name": "stdout",
     "output_type": "stream",
     "text": [
      "el ciudadano puede votar\n"
     ]
    }
   ],
   "source": [
    "# 15. Desarrolla un programa que determine si una persona puede votar. Debe tener al menos 18 años y ser ciudadano del país.\n",
    "\n",
    "def poder_votar(edad, nacionalidad):\n",
    "    if edad >= 18 and nacionalidad == \"Argentina\":\n",
    "        return \"el ciudadano puede votar\"\n",
    "    else:\n",
    "        return \"el ciudadano no puede votar\"\n",
    "    \n",
    "print(poder_votar(19, \"Argentina\"))"
   ]
  },
  {
   "cell_type": "code",
   "execution_count": 48,
   "metadata": {},
   "outputs": [
    {
     "name": "stdout",
     "output_type": "stream",
     "text": [
      "el valor absoluto del número es mayor a 10\n"
     ]
    }
   ],
   "source": [
    "# 16. Escribe un programa que determine si un número es negativo o si su valor absoluto es mayor que 10.\n",
    "\n",
    "def determinar_numero(numero):\n",
    "    if numero < 0:\n",
    "        return \"el numero es negativo\"\n",
    "    elif numero > 10 or numero < -10:\n",
    "        return \"el valor absoluto del número es mayor a 10\"\n",
    "    \n",
    "print(determinar_numero(22))"
   ]
  },
  {
   "cell_type": "code",
   "execution_count": null,
   "metadata": {},
   "outputs": [],
   "source": [
    "# 17. Crea un programa que verifique si una cadena de texto contiene al menos una letra mayúscula y una letra minúscula.\n"
   ]
  },
  {
   "cell_type": "code",
   "execution_count": null,
   "metadata": {},
   "outputs": [],
   "source": [
    "# 18. Desarrolla un programa que clasifique un número en función de su rango: 1-10, 11-20, 21-30, o superior a 30.\n"
   ]
  },
  {
   "cell_type": "code",
   "execution_count": null,
   "metadata": {},
   "outputs": [],
   "source": [
    "# 19. Escribe un programa que determine si una persona puede obtener un descuento en una tienda. \n",
    "# Debe ser mayor de 60 años o tener una membresía premium.\n"
   ]
  },
  {
   "cell_type": "code",
   "execution_count": null,
   "metadata": {},
   "outputs": [],
   "source": [
    "# 20. Crea un programa que determine si un número es par y positivo o impar y negativo."
   ]
  },
  {
   "cell_type": "markdown",
   "metadata": {},
   "source": [
    "1. Suma de valores: Dada una lista de diccionarios, calcula la suma de los valores de una clave específica en todos los diccionarios.\n",
    "\n",
    "2. Promedio de edades: Dada una lista de personas representadas como diccionarios, calcula el promedio de edades.\n",
    "\n",
    "3. Buscar clave: Dada una lista de diccionarios, busca si una clave específica existe en al menos uno de los diccionarios.\n",
    "\n",
    "4. Filtrar diccionarios: Dada una lista de diccionarios que representan productos, filtra los productos que tienen un precio superior a un valor dado.\n",
    "\n",
    "5. Contar elementos: Dada una lista de diccionarios que representan estudiantes y sus calificaciones, cuenta cuántos estudiantes tienen una calificación superior a un valor dado.\n",
    "\n",
    "6. Calificaciones promedio: Dada una lista de diccionarios que representan estudiantes y sus calificaciones, calcula el promedio de calificaciones de todos los estudiantes.\n",
    "\n",
    "7. Mayor valor en clave: Dada una lista de diccionarios con datos numéricos, encuentra el diccionario que tiene el valor máximo en una clave específica.\n",
    "\n",
    "8. Menor valor en clave: Dada una lista de diccionarios con datos numéricos, encuentra el diccionario que tiene el valor mínimo en una clave específica.\n",
    "\n",
    "9. Contar ocurrencias: Dada una lista de diccionarios que contienen palabras, cuenta cuántas veces aparece una palabra específica en todos los diccionarios.\n",
    "\n",
    "10. Eliminar duplicados: Dada una lista de diccionarios que contienen números, elimina los diccionarios duplicados basados en sus valores.\n",
    "\n",
    "11. Ordenar por clave: Dada una lista de diccionarios con información de libros, ordénalos alfabéticamente por el título del libro.\n",
    "\n",
    "12. Filtrar por categoría: Dada una lista de diccionarios que representan productos con categorías, filtra los productos que pertenecen a una categoría específica.\n",
    "\n",
    "13. Contar elementos únicos: Dada una lista de diccionarios con datos numéricos, cuenta cuántos valores únicos hay en una clave específica.\n",
    "\n",
    "14. Buscar coincidencias: Dada una lista de diccionarios con nombres de personas, busca si un nombre específico existe en alguno de los diccionarios.\n",
    "\n",
    "15. Calificaciones máximas: Dada una lista de diccionarios que representan estudiantes y sus calificaciones, encuentra a los estudiantes que tienen la calificación máxima.\n",
    "\n",
    "16. Calificaciones mínimas: Dada una lista de diccionarios que representan estudiantes y sus calificaciones, encuentra a los estudiantes que tienen la calificación mínima.\n",
    "\n",
    "17. Filtrar por género: Dada una lista de diccionarios que representan personas con género, filtra las personas que tienen un género específico.\n",
    "\n",
    "18. Calificaciones aprobatorias: Dada una lista de diccionarios que representan estudiantes y sus calificaciones, encuentra a los estudiantes que tienen calificaciones aprobatorias (por encima de 60).\n",
    "\n",
    "19. Contar elementos con clave ausente: Dada una lista de diccionarios con datos, cuenta cuántos diccionarios no tienen una clave específica.\n",
    "\n",
    "20. Modificar valores: Dada una lista de diccionarios que representan productos y sus precios, incrementa todos los precios en un porcentaje específico.\n",
    "\n",
    "Estos ejercicios te permitirán practicar la iteración sobre listas de diccionarios utilizando la sentencia for in en Python.\n"
   ]
  }
 ],
 "metadata": {
  "kernelspec": {
   "display_name": ".virtual",
   "language": "python",
   "name": "python3"
  },
  "language_info": {
   "codemirror_mode": {
    "name": "ipython",
    "version": 3
   },
   "file_extension": ".py",
   "mimetype": "text/x-python",
   "name": "python",
   "nbconvert_exporter": "python",
   "pygments_lexer": "ipython3",
   "version": "3.11.5"
  }
 },
 "nbformat": 4,
 "nbformat_minor": 2
}
