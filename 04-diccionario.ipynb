{
 "cells": [
  {
   "cell_type": "markdown",
   "metadata": {},
   "source": [
    "# Diccionarios\n",
    "\n",
    "Un diccionario es la representacion de un tipo de dato compuesto. \n",
    "\n",
    "Datos de una persona: \n",
    "\n",
    "- Nombre\n",
    "- Edad\n",
    "- Sexo\n",
    "- Email\n",
    "- Nacionalidad\n",
    "\n"
   ]
  },
  {
   "cell_type": "code",
   "execution_count": 3,
   "metadata": {},
   "outputs": [
    {
     "name": "stdout",
     "output_type": "stream",
     "text": [
      "('Natalia', 33, 'mujer', 'lalala@lalala.com', 'Argentina')\n",
      "['Natalia', 34, 'mujer', 'lalala@lalala.com', 'Argentina']\n"
     ]
    }
   ],
   "source": [
    "nombre = \"Natalia\"\n",
    "edad = 33\n",
    "sexo = \"mujer\"\n",
    "email = \"lalala@lalala.com\"\n",
    "nacionalidad = \"Argentina\"\n",
    "\n",
    "datos_nati = nombre, edad, sexo, email, nacionalidad\n",
    "\n",
    "print(datos_nati)\n",
    "\n",
    "# datos_nati[1] = 34\n",
    "# print(datos_nati)\n",
    "# esto da error por que no se puede modificar una tupla\n",
    "\n",
    "datos_lista_nati = [nombre, edad, sexo, email, nacionalidad]\n",
    "\n",
    "datos_lista_nati[1] = 34\n",
    "print(datos_lista_nati)\n"
   ]
  },
  {
   "cell_type": "code",
   "execution_count": 11,
   "metadata": {},
   "outputs": [
    {
     "name": "stdout",
     "output_type": "stream",
     "text": [
      "33\n",
      "[{'nombre': 'Freyja', 'tipo': 'gato'}, {'nombre': 'Xuxa', 'tipo': 'tortuga'}]\n",
      "{'nombre': 'Xuxa', 'tipo': 'tortuga'}\n",
      "Xuxa\n"
     ]
    }
   ],
   "source": [
    "nati = {\n",
    "    \"nombre\": \"Natalia\",\n",
    "    \"edad\": 33,\n",
    "    \"sexo\": \"mujer\",\n",
    "    \"email\": \"lalala@lalala.com\",\n",
    "    \"nacionalidad\": \"Argentina\",\n",
    "    \"mascotas\": [{\n",
    "        \"nombre\": \"Freyja\",\n",
    "        \"tipo\": \"gato\"\n",
    "    }, {\n",
    "        \"nombre\": \"Xuxa\",\n",
    "        \"tipo\": \"tortuga\"\n",
    "    }]\n",
    "}\n",
    "\n",
    "print(nati[\"edad\"])\n",
    "print(nati[\"mascotas\"])\n",
    "print(nati[\"mascotas\"][1])\n",
    "print(nati[\"mascotas\"][1][\"nombre\"])"
   ]
  },
  {
   "cell_type": "markdown",
   "metadata": {},
   "source": [
    "## Métodos de diccionarios\n",
    "\n",
    "- Remover todos los elementos de un diccionario"
   ]
  },
  {
   "cell_type": "code",
   "execution_count": 13,
   "metadata": {},
   "outputs": [
    {
     "name": "stdout",
     "output_type": "stream",
     "text": [
      "{'Pais': 'Argentina', 'Poblacion': 345000, 'Nombre': 'San Fernando'}\n",
      "{}\n"
     ]
    }
   ],
   "source": [
    "ciudad = {\n",
    "    \"Pais\": \"Argentina\",\n",
    "    \"Poblacion\": 345000,\n",
    "    \"Nombre\": \"San Fernando\"\n",
    "}\n",
    "\n",
    "print(ciudad)\n",
    "\n",
    "ciudad.clear()\n",
    "\n",
    "print(ciudad)"
   ]
  },
  {
   "cell_type": "markdown",
   "metadata": {},
   "source": [
    "- Copiar un diccionario"
   ]
  },
  {
   "cell_type": "code",
   "execution_count": 14,
   "metadata": {},
   "outputs": [
    {
     "name": "stdout",
     "output_type": "stream",
     "text": [
      "{'Pais': 'Brasil', 'Poblacion': 345000, 'Nombre': 'San Fernando'}\n"
     ]
    }
   ],
   "source": [
    "san_fer = {\n",
    "    \"Pais\": \"Argentina\",\n",
    "    \"Poblacion\": 345000,\n",
    "    \"Nombre\": \"San Fernando\"\n",
    "}\n",
    "\n",
    "san_fer_br = san_fer.copy()\n",
    "san_fer_br[\"Pais\"] = \"Brasil\"\n",
    "\n",
    "print(san_fer_br)"
   ]
  },
  {
   "cell_type": "markdown",
   "metadata": {},
   "source": [
    "- Obtener las claves de un diccionario con sus valores modificados"
   ]
  },
  {
   "cell_type": "code",
   "execution_count": 17,
   "metadata": {},
   "outputs": [
    {
     "name": "stdout",
     "output_type": "stream",
     "text": [
      "{'Pais': 5, 'Poblacion': 5, 'Nombre': 5}\n"
     ]
    }
   ],
   "source": [
    "san_fer = {\n",
    "    \"Pais\": \"Argentina\",\n",
    "    \"Poblacion\": 345000,\n",
    "    \"Nombre\": \"San Fernando\"\n",
    "}\n",
    "\n",
    "print(san_fer.fromkeys(san_fer,5))"
   ]
  },
  {
   "cell_type": "markdown",
   "metadata": {},
   "source": [
    "- Obtener solo las claves de un diccionario"
   ]
  },
  {
   "cell_type": "code",
   "execution_count": 18,
   "metadata": {},
   "outputs": [
    {
     "name": "stdout",
     "output_type": "stream",
     "text": [
      "dict_keys(['Pais', 'Poblacion', 'Nombre'])\n"
     ]
    }
   ],
   "source": [
    "san_fer = {\n",
    "    \"Pais\": \"Argentina\",\n",
    "    \"Poblacion\": 345000,\n",
    "    \"Nombre\": \"San Fernando\"\n",
    "}\n",
    "\n",
    "print(san_fer.keys())"
   ]
  },
  {
   "cell_type": "markdown",
   "metadata": {},
   "source": [
    "- Como actualizar varias propiedades en una sola sentancía "
   ]
  },
  {
   "cell_type": "code",
   "execution_count": 20,
   "metadata": {},
   "outputs": [
    {
     "name": "stdout",
     "output_type": "stream",
     "text": [
      "{'nombre': 'Natalio', 'edad': 38, 'sexo': 'hombre', 'email': 'lalala@lalala.com', 'nacionalidad': 'Argentina', 'mascotas': [{'nombre': 'Firulais', 'tipo': 'perro'}, {'nombre': 'Xuxa', 'tipo': 'tortuga'}]}\n"
     ]
    }
   ],
   "source": [
    "nati = {\n",
    "    \"nombre\": \"Natalia\",\n",
    "    \"edad\": 33,\n",
    "    \"sexo\": \"mujer\",\n",
    "    \"email\": \"lalala@lalala.com\",\n",
    "    \"nacionalidad\": \"Argentina\",\n",
    "    \"mascotas\": [{\n",
    "        \"nombre\": \"Freyja\",\n",
    "        \"tipo\": \"gato\"\n",
    "    }, {\n",
    "        \"nombre\": \"Xuxa\",\n",
    "        \"tipo\": \"tortuga\"\n",
    "    }]\n",
    "}\n",
    "\n",
    "cambios = {\n",
    "    \"edad\": 38,\n",
    "    \"sexo\": \"hombre\",\n",
    "    \"nombre\": \"Natalio\",\n",
    "    \"mascotas\": [{\n",
    "        \"nombre\": \"Firulais\",\n",
    "        \"tipo\": \"perro\"\n",
    "    }, {\n",
    "        \"nombre\": \"Xuxa\",\n",
    "        \"tipo\": \"tortuga\"\n",
    "    }]\n",
    "}\n",
    "\n",
    "nati.update(cambios)\n",
    "\n",
    "print(nati)"
   ]
  },
  {
   "cell_type": "markdown",
   "metadata": {},
   "source": [
    "- Verificar si existe una clave en el diccionario"
   ]
  },
  {
   "cell_type": "code",
   "execution_count": 22,
   "metadata": {},
   "outputs": [
    {
     "name": "stdout",
     "output_type": "stream",
     "text": [
      "No tengo la informacion de estudios cursados\n",
      "[{'nombre': 'Freyja', 'tipo': 'gato'}, {'nombre': 'Xuxa', 'tipo': 'tortuga'}]\n"
     ]
    }
   ],
   "source": [
    "nati = {\n",
    "    \"nombre\": \"Natalia\",\n",
    "    \"edad\": 33,\n",
    "    \"sexo\": \"mujer\",\n",
    "    \"email\": \"lalala@lalala.com\",\n",
    "    \"nacionalidad\": \"Argentina\",\n",
    "    \"mascotas\": [{\n",
    "        \"nombre\": \"Freyja\",\n",
    "        \"tipo\": \"gato\"\n",
    "    }, {\n",
    "        \"nombre\": \"Xuxa\",\n",
    "        \"tipo\": \"tortuga\"\n",
    "    }]\n",
    "}\n",
    "\n",
    "if \"estudios_cursados\" in nati:\n",
    "    print(nati[\"estudios_cursados\"])\n",
    "\n",
    "else:\n",
    "    print(\"No tengo la informacion de estudios cursados\")\n",
    "\n",
    "if \"mascotas\" in nati:\n",
    "    print(nati[\"mascotas\"])\n",
    "\n",
    "else:\n",
    "    print(\"No se encntraron mascotas\")"
   ]
  },
  {
   "cell_type": "markdown",
   "metadata": {},
   "source": [
    "- Como mesclar diccionarios en uno solo"
   ]
  },
  {
   "cell_type": "code",
   "execution_count": 33,
   "metadata": {},
   "outputs": [
    {
     "name": "stdout",
     "output_type": "stream",
     "text": [
      "{   'edad': 33,\n",
      "    'email': 'lalala@lalala.com',\n",
      "    'mascotas': [   {'nombre': 'Freyja', 'tipo': 'gato'},\n",
      "                    {'nombre': 'Xuxa', 'tipo': 'tortuga'}],\n",
      "    'nacionalidad': 'Argentina',\n",
      "    'nombre': 'Natalia',\n",
      "    'sexo': 'mujer'}\n",
      "\n",
      "{   'edad': 35,\n",
      "    'email': 'lalala@lalala.com',\n",
      "    'estudios_cursados': 'Diploma de arte',\n",
      "    'mascotas': [   {'nombre': 'Freyja', 'tipo': 'gato'},\n",
      "                    {'nombre': 'Xuxa', 'tipo': 'tortuga'}],\n",
      "    'nacionalidad': 'Argentina',\n",
      "    'nombre': 'Carolina',\n",
      "    'sexo': 'mujer'}\n",
      "\n",
      "{   'edad': 35,\n",
      "    'email': 'lalala@lalala.com',\n",
      "    'estudios_cursados': 'Diploma de arte',\n",
      "    'mascotas': [   {'nombre': 'Freyja', 'tipo': 'gato'},\n",
      "                    {'nombre': 'Xuxa', 'tipo': 'tortuga'}],\n",
      "    'nacionalidad': 'Argentina',\n",
      "    'nombre': 'Carolina',\n",
      "    'sexo': 'mujer'}\n"
     ]
    }
   ],
   "source": [
    "import pprint\n",
    "\n",
    "pp = pprint.PrettyPrinter(indent=4)\n",
    "\n",
    "nati = {\n",
    "    \"nombre\": \"Natalia\",\n",
    "    \"edad\": 33,\n",
    "    \"sexo\": \"mujer\",\n",
    "    \"email\": \"lalala@lalala.com\",\n",
    "    \"nacionalidad\": \"Argentina\",\n",
    "    \"mascotas\": [{\n",
    "        \"nombre\": \"Freyja\",\n",
    "        \"tipo\": \"gato\"\n",
    "    }, {\n",
    "        \"nombre\": \"Xuxa\",\n",
    "        \"tipo\": \"tortuga\"\n",
    "    }]\n",
    "}\n",
    "\n",
    "caro = nati.copy()\n",
    "\n",
    "cambios = {\n",
    "    \"nombre\": \"Carolina\",\n",
    "    \"edad\": 35,\n",
    "    \"estudios_cursados\": \"Diploma de arte\"\n",
    "}\n",
    "\n",
    "caro.update(cambios)\n",
    "\n",
    "pp.pprint(nati)\n",
    "print()\n",
    "pp.pprint(caro)\n",
    "\n",
    "nati.update(caro)\n",
    "mutante = nati\n",
    "\n",
    "print()\n",
    "pp.pprint(mutante)"
   ]
  }
 ],
 "metadata": {
  "kernelspec": {
   "display_name": ".virtual",
   "language": "python",
   "name": "python3"
  },
  "language_info": {
   "codemirror_mode": {
    "name": "ipython",
    "version": 3
   },
   "file_extension": ".py",
   "mimetype": "text/x-python",
   "name": "python",
   "nbconvert_exporter": "python",
   "pygments_lexer": "ipython3",
   "version": "3.11.5"
  }
 },
 "nbformat": 4,
 "nbformat_minor": 2
}
