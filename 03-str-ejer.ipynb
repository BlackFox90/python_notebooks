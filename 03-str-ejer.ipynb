{
 "cells": [
  {
   "cell_type": "markdown",
   "metadata": {},
   "source": [
    "1. Inversión de cadena:\n",
    "    - Pide al usuario una cadena de texto.\n",
    "    - Imprime la cadena en orden inverso.\n",
    "\n",
    "2. Primera y última letra:\n",
    "    - Pide al usuario una palabra.\n",
    "    - Imprime la primera y la última letra de esa palabra.\n",
    "\n",
    "3. Contador de palabras:\n",
    "    - Pide al usuario una frase.\n",
    "    - Imprime el número de palabras en esa frase.\n",
    "\n",
    "4. Vocal o consonante:\n",
    "    - Pide al usuario un caracter.\n",
    "    - Determina si es una vocal, consonante o ningún tipo de letra (como un número o símbolo) e imprime el resultado.\n",
    "\n",
    "5. Palíndromo:\n",
    "    - Pide al usuario una palabra o frase.\n",
    "    - Determina si es un palíndromo (se lee igual hacia adelante y hacia atrás) e imprime el resultado.\n",
    "\n",
    "6. Cadena en mayúsculas y minúsculas:\n",
    "    - Pide al usuario una cadena de texto.\n",
    "    - Imprime la cadena en mayúsculas y luego en minúsculas.\n",
    "\n",
    "7. Reemplazar palabras:\n",
    "    - Pide al usuario una frase.\n",
    "    - Pide al usuario una palabra de esa frase y su reemplazo.\n",
    "    - Imprime la frase con la palabra reemplazada.\n",
    "\n",
    "8. Contador de letra específica:\n",
    "    - Pide al usuario una frase y una letra.\n",
    "    - Cuenta cuántas veces aparece esa letra en la frase e imprime el resultado.\n",
    "\n",
    "9. Separador de palabras:\n",
    "    - Pide al usuario una frase.\n",
    "    - Separa la frase por palabras e imprime cada palabra en una línea diferente.\n",
    "\n",
    "10. Codificador simple:\n",
    "    - Pide al usuario una frase.\n",
    "    - Codifica la frase desplazando cada letra dos posiciones en el alfabeto. Por ejemplo, \"a\" se convierte en \"c\", \"b\" se convierte en \"d\", etc. Imprime la frase codificada."
   ]
  },
  {
   "cell_type": "code",
   "execution_count": 1,
   "metadata": {},
   "outputs": [
    {
     "name": "stdout",
     "output_type": "stream",
     "text": [
      "en el día de hoy\n",
      "['en', 'el', 'día', 'de', 'hoy']\n",
      "['hoy', 'de', 'día', 'el', 'en']\n",
      "yoh ed aíd le ne\n"
     ]
    }
   ],
   "source": [
    "# 1. Inversión de cadena:\n",
    "#    - Pide al usuario una cadena de texto.\n",
    "#    - Imprime la cadena en orden inverso.\n",
    "\n",
    "cadena_texto = input(\"por favor ingresar una cadena de texto\")\n",
    "\n",
    "print(cadena_texto)\n",
    "\n",
    "lista_texto = cadena_texto.split()\n",
    "\n",
    "print(lista_texto)\n",
    "\n",
    "lista_texto.reverse()\n",
    "\n",
    "print(lista_texto)\n",
    "\n",
    "# Este método lo tenia yo anotado en mi cuaderno, no esta acá\n",
    "\n",
    "print(cadena_texto[ : :-1])"
   ]
  },
  {
   "cell_type": "code",
   "execution_count": null,
   "metadata": {},
   "outputs": [],
   "source": [
    "# 2. Primera y última letra:\n",
    "#    - Pide al usuario una palabra.\n",
    "#    - Imprime la primera y la última letra de esa palabra.\n",
    "\n",
    "palabra = input(\"por favor escribir una palabra\")\n",
    "\n",
    "print(palabra)\n",
    "print(\"la primera letra es:\", palabra[0], \"y la ultima letra es:\", palabra[-1])"
   ]
  },
  {
   "cell_type": "code",
   "execution_count": null,
   "metadata": {},
   "outputs": [],
   "source": [
    "# 3. Contador de palabras:\n",
    "#    - Pide al usuario una frase.\n",
    "#    - Imprime el número de palabras en esa frase.\n",
    "\n",
    "frase = input(\"por favor ingresar una frase\")\n",
    "\n",
    "print(frase)\n",
    "\n",
    "lista_palabras = frase.split()\n",
    "n_palabras = len(lista_palabras)\n",
    "\n",
    "print(n_palabras)\n"
   ]
  },
  {
   "cell_type": "code",
   "execution_count": null,
   "metadata": {},
   "outputs": [],
   "source": [
    "# 4. Vocal o consonante:\n",
    "#    - Pide al usuario un caracter.\n",
    "#    - Determina si es una vocal, consonante o ningún tipo de letra (como un número o símbolo) e imprime el resultado.\n",
    "\n",
    "caracter = input(\"por favor ingresar un caracter\")\n",
    "\n",
    "consonantes = [ \"b\", \"B\", \"c\", \"C\", \"d\", \"D\", \"f\", \"F\",\"g\", \"G\", \"h\", \"H\", \"j\", \"J\", \"k\", \"K\", \"l\", \"L\", \"m\", \"M\",\n",
    "                \"n\", \"N\", \"ñ\", \"Ñ\", \"p\", \"P\", \"q\", \"Q\", \"r\", \"R\", \"s\", \"S\", \"t\", \"T\", \"v\", \"V\", \"w\", \"W\", \"x\", \"X\", \"y\", \"Y\",\"z\", \"Z\"]\n",
    "vocales = [\"a\", \"A\", \"e\", \"E\", \"i\", \"I\", \"o\", \"O\", \"u\", \"U\"]\n",
    "\n",
    "for letra in caracter:\n",
    "    if caracter in consonantes:\n",
    "        print(caracter, \"es una consonante\")\n",
    "\n",
    "    else:\n",
    "        if caracter in vocales:\n",
    "            print(caracter, \"es una vocal\")\n",
    "\n",
    "        else:\n",
    "            print(caracter, \"no es una letra del alfabeto\")\n",
    "\n"
   ]
  },
  {
   "cell_type": "code",
   "execution_count": null,
   "metadata": {},
   "outputs": [],
   "source": [
    "# 5. Palíndromo:\n",
    "#    - Pide al usuario una palabra o frase.\n",
    "#    - Determina si es un palíndromo (se lee igual hacia adelante y hacia atrás) e imprime el resultado.\n",
    "\n",
    "frase = input(\"por favor ingresar una frase\")\n",
    "\n",
    "print(frase)\n",
    "\n",
    "frase_inversa = frase[ : :-1]\n",
    "\n",
    "if frase == frase_inversa:\n",
    "    print(frase_inversa, \"ES un palindromo de:\", frase)\n",
    "\n",
    "else:\n",
    "    print(frase_inversa, \"NO ES un palindromo de:\", frase)"
   ]
  },
  {
   "cell_type": "code",
   "execution_count": null,
   "metadata": {},
   "outputs": [],
   "source": [
    "# 6. Cadena en mayúsculas y minúsculas:\n",
    "#    - Pide al usuario una cadena de texto.\n",
    "#    - Imprime la cadena en mayúsculas y luego en minúsculas.\n",
    "\n",
    "cadena_texto = input(\"por favor ingresar una cadena de texto\")\n",
    "\n",
    "print(cadena_texto.upper())\n",
    "print(cadena_texto.lower())"
   ]
  },
  {
   "cell_type": "code",
   "execution_count": null,
   "metadata": {},
   "outputs": [],
   "source": [
    "# 7. Reemplazar palabras:\n",
    "#     - Pide al usuario una frase.\n",
    "#     - Pide al usuario una palabra de esa frase y su reemplazo.\n",
    "#     - Imprime la frase con la palabra reemplazada.\n",
    "\n",
    "frase = input(\"por favor ingresar una frase\")\n",
    "palabra_en_frase = input(\"por favor ingresar una palabra de la frase\")\n",
    "reemplazo_palabra = input(\"por favor ingresar una nueva palabra para reemplazar\")\n",
    "\n",
    "print(frase)\n",
    "\n",
    "nueva_frase = frase.replace(palabra_en_frase, reemplazo_palabra)\n",
    "\n",
    "print(nueva_frase)\n",
    "\n",
    "lista_frase = frase.split()\n",
    "\n",
    "try:\n",
    "    indice_remplazo = lista_frase.index(palabra_en_frase)\n",
    "    lista_frase[indice_remplazo] = reemplazo_palabra\n",
    "\n",
    "except:\n",
    "    print(\"no existe la palabra en la frase\")\n",
    "    \n",
    "\n",
    "print(\" \".join(lista_frase))\n"
   ]
  },
  {
   "cell_type": "code",
   "execution_count": null,
   "metadata": {},
   "outputs": [],
   "source": [
    "# 8. Contador de letra específica:\n",
    "#     - Pide al usuario una frase y una letra.\n",
    "#     - Cuenta cuántas veces aparece esa letra en la frase e imprime el resultado.\n",
    "\n",
    "frase = input(\"por favor ingresar una frasea\")\n",
    "letra = input(\"Por favor ingresar una letra\")\n",
    "\n",
    "print(frase, letra)\n",
    "\n",
    "letra_en_frase = frase.count(letra)\n",
    "\n",
    "print(letra_en_frase)"
   ]
  },
  {
   "cell_type": "code",
   "execution_count": null,
   "metadata": {},
   "outputs": [],
   "source": [
    "# 9. Separador de palabras:\n",
    "#     - Pide al usuario una frase.\n",
    "#     - Separa la frase por palabras e imprime cada palabra en una línea diferente.\n",
    "\n",
    "frase = input(\"Por favor ingresar una frase\")\n",
    "lista_palabra = frase.split()\n",
    "\n",
    "for nueva_lista in lista_palabra: \n",
    "    print(nueva_lista)"
   ]
  },
  {
   "cell_type": "code",
   "execution_count": null,
   "metadata": {},
   "outputs": [],
   "source": [
    "# 10. Codificador simple:\n",
    "#     - Pide al usuario una frase.\n",
    "#     - Codifica la frase desplazando cada letra dos posiciones en el alfabeto. \n",
    "#       Por ejemplo, \"a\" se convierte en \"c\", \"b\" se convierte en \"d\", etc. Imprime la frase codificada.\n",
    "\n",
    "frase = input(\"por favor ingresar una frase\")\n",
    "\n",
    "# Frase = \"un dato secreto\"\n",
    "# Frase_encriptada = 'wp\"fcvq\"ugetgvq'\n",
    "\n",
    "letra = frase[0]\n",
    "\n",
    "print(ord(letra))\n",
    "print(chr(65))\n",
    "\n",
    "frase_encriptada = \"\"\n",
    "\n",
    "for caracter in frase:\n",
    "    ascii_code = ord(caracter)\n",
    "    new_code = ascii_code + 2\n",
    "    new_caracter = chr(new_code)\n",
    "    # frase_encriptada = frase_encriptada + new_caracter\n",
    "    frase_encriptada += new_caracter\n",
    "\n",
    "print(frase_encriptada)"
   ]
  }
 ],
 "metadata": {
  "kernelspec": {
   "display_name": ".virtual",
   "language": "python",
   "name": "python3"
  },
  "language_info": {
   "codemirror_mode": {
    "name": "ipython",
    "version": 3
   },
   "file_extension": ".py",
   "mimetype": "text/x-python",
   "name": "python",
   "nbconvert_exporter": "python",
   "pygments_lexer": "ipython3",
   "version": "3.11.5"
  }
 },
 "nbformat": 4,
 "nbformat_minor": 2
}
