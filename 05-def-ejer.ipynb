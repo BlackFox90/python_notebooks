{
 "cells": [
  {
   "cell_type": "markdown",
   "metadata": {},
   "source": [
    "Ejercicio 1: Suma de números pares\n",
    "Escribe una función llamada suma_pares(n) que tome un número entero positivo n como argumento y devuelva la suma de todos los números pares desde 2 hasta n.\n",
    "\n",
    "Ejercicio 2: Calculadora simple\n",
    "Crea una función llamada calculadora(a, b, operacion) que acepte dos números a y b, y una cadena operacion que puede ser \"suma\", \"resta\", \"multiplicacion\" o \"division\". La función debe realizar la operación correspondiente y devolver el resultado.\n",
    "\n",
    "Ejercicio 3: Contar vocales en una cadena\n",
    "Define una función llamada contar_vocales(cadena) que cuente y devuelva la cantidad de vocales (mayúsculas y minúsculas) en una cadena de texto.\n",
    "\n",
    "Ejercicio 4: Generar lista de números inpares\n",
    "Escribe una función numeros_inpares(n) que tome un número entero n como argumento y genere una lista con todos los números inpares desde 1 hasta n.\n",
    "\n",
    "Ejercicio 5: Calcular el promedio de una lista\n",
    "Crea una función promedio_lista(lista) que calcule el promedio de una lista de números.\n",
    "\n",
    "Ejercicio 6: Calcular factorial\n",
    "Define una función factorial(n) que calcule el factorial de un número entero positivo n.\n",
    "\n",
    "Ejercicio 7: Verificar si un número es primo\n",
    "Escribe una función es_primo(numero) que determine si un número dado es primo y devuelva True o False en consecuencia.\n",
    "\n",
    "Ejercicio 8: Concatenar dos listas\n",
    "Crea una función concatenar_listas(lista1, lista2) que tome dos listas como argumento y las concatene en una sola lista.\n",
    "\n",
    "Ejercicio 9: Generar una lista de números primos\n",
    "Escribe una función lista_primos(n) que genere una lista de números primos desde 2 hasta n.\n",
    "\n",
    "Ejercicio 10: Calcular el área de un triángulo\n",
    "Define una función area_triangulo(base, altura) que calcule el área de un triángulo a partir de su base y altura."
   ]
  },
  {
   "cell_type": "code",
   "execution_count": 58,
   "metadata": {},
   "outputs": [
    {
     "name": "stdout",
     "output_type": "stream",
     "text": [
      "[2, 4, 6, 8, 10, 12, 14]\n"
     ]
    },
    {
     "data": {
      "text/plain": [
       "56"
      ]
     },
     "execution_count": 58,
     "metadata": {},
     "output_type": "execute_result"
    }
   ],
   "source": [
    "# Ejercicio 1: Suma de números pares\n",
    "# Escribe una función llamada suma_pares(n) que tome un número entero positivo n como argumento \n",
    "# y devuelva la suma de todos los números pares desde 2 hasta n.\n",
    "\n",
    "def suma_pares(n):\n",
    "\n",
    "    n2 = 0\n",
    "    lista_np = list(range(2, n+1, 2))\n",
    "    print(lista_np)\n",
    "\n",
    "    for x in lista_np:    \n",
    "        n2 = n2 + x\n",
    "\n",
    "    return n2\n",
    "\n",
    "suma_pares(15)\n",
    "            \n",
    "    "
   ]
  },
  {
   "cell_type": "code",
   "execution_count": 68,
   "metadata": {},
   "outputs": [
    {
     "data": {
      "text/plain": [
       "'No se puede dividir por 0'"
      ]
     },
     "execution_count": 68,
     "metadata": {},
     "output_type": "execute_result"
    }
   ],
   "source": [
    "# Ejercicio 2: Calculadora simple\n",
    "# Crea una función llamada calculadora(a, b, operacion) que acepte dos números a y b, \n",
    "# y una cadena operacion que puede ser \"suma\", \"resta\", \"multiplicacion\" o \"division\". \n",
    "# La función debe realizar la operación correspondiente y devolver el resultado.\n",
    "\n",
    "def calculadora(a, b, operacion):\n",
    "    \n",
    "    if operacion == \"+\":\n",
    "        calculo = a + b\n",
    "        return calculo\n",
    "    if operacion == \"-\":\n",
    "        calculo = a - b\n",
    "        return calculo\n",
    "    if operacion == \"*\":\n",
    "        calculo = a * b\n",
    "        return calculo\n",
    "    if operacion == \"/\":\n",
    "        if b != 0:\n",
    "            calculo = a / b\n",
    "            return calculo\n",
    "        return \"No se puede dividir por 0\"\n",
    "    \n",
    "calculadora(3,0,\"/\")"
   ]
  },
  {
   "cell_type": "code",
   "execution_count": 70,
   "metadata": {},
   "outputs": [
    {
     "data": {
      "text/plain": [
       "11"
      ]
     },
     "execution_count": 70,
     "metadata": {},
     "output_type": "execute_result"
    }
   ],
   "source": [
    "# Ejercicio 3: Contar vocales en una cadena\n",
    "# Define una función llamada contar_vocales(cadena) que cuente y devuelva la cantidad de vocales (mayúsculas y minúsculas) en una cadena de texto.\n",
    "\n",
    "def contar_vocales(cadena):\n",
    "    vocales = [\"a\", \"A\", \"e\", \"E\", \"i\", \"I\", \"o\", \"O\", \"u\", \"U\"]\n",
    "    resultado = 0\n",
    "\n",
    "    for letra in cadena:\n",
    "        if letra in vocales:\n",
    "            resultado += 1\n",
    "    return resultado \n",
    "\n",
    "        \n",
    "contar_vocales(\"Ana ve la tele por sU cAsa a\")\n"
   ]
  },
  {
   "cell_type": "code",
   "execution_count": 71,
   "metadata": {},
   "outputs": [
    {
     "name": "stdout",
     "output_type": "stream",
     "text": [
      "[1, 3, 5, 7, 9, 11, 13, 15]\n"
     ]
    }
   ],
   "source": [
    "# Ejercicio 4: Generar lista de números impares\n",
    "# Escribe una función numeros_impares(n) que tome un número entero n como argumento y genere una lista con todos los números impares desde 1 hasta n.\n",
    "\n",
    "def numeros_impares(n):\n",
    "\n",
    "    lista_ni = list(range(1, n+1, 2))\n",
    "    print(lista_ni)\n",
    "\n",
    "numeros_impares(15)"
   ]
  },
  {
   "cell_type": "code",
   "execution_count": 74,
   "metadata": {},
   "outputs": [
    {
     "data": {
      "text/plain": [
       "2.433333333333333"
      ]
     },
     "execution_count": 74,
     "metadata": {},
     "output_type": "execute_result"
    }
   ],
   "source": [
    "# Ejercicio 5: Calcular el promedio de una lista\n",
    "# Crea una función promedio_lista(lista) que calcule el promedio de una lista de números.\n",
    "\n",
    "def promedio_lista(*lista):\n",
    "    a = len(lista)\n",
    "    n2 =0\n",
    "    \n",
    "\n",
    "    for n in lista:\n",
    "        n2 += n\n",
    "\n",
    "        if a > 1:\n",
    "            promedio = n2 / a\n",
    "\n",
    "        else:\n",
    "            return n\n",
    "        \n",
    "    return promedio\n",
    "\n",
    "\n",
    "\n",
    "promedio_lista(2, 2.5, 2.8)\n"
   ]
  },
  {
   "cell_type": "code",
   "execution_count": 75,
   "metadata": {},
   "outputs": [
    {
     "name": "stdout",
     "output_type": "stream",
     "text": [
      "[1, 2, 3, 4, 5]\n"
     ]
    },
    {
     "data": {
      "text/plain": [
       "120"
      ]
     },
     "execution_count": 75,
     "metadata": {},
     "output_type": "execute_result"
    }
   ],
   "source": [
    "# Ejercicio 6: Calcular factorial\n",
    "# Define una función factorial(n) que calcule el factorial de un número entero positivo n.\n",
    "\n",
    "def factorial(n):\n",
    "    lista = list(range(1, n+1))\n",
    "    print(lista)\n",
    "    a = 1\n",
    "\n",
    "    for x in lista:\n",
    "        a *= x\n",
    "    return a\n",
    "\n",
    "factorial(5)\n"
   ]
  },
  {
   "cell_type": "code",
   "execution_count": 133,
   "metadata": {},
   "outputs": [
    {
     "data": {
      "text/plain": [
       "True"
      ]
     },
     "execution_count": 133,
     "metadata": {},
     "output_type": "execute_result"
    }
   ],
   "source": [
    "# Ejercicio 7: Verificar si un número es primo\n",
    "# Escribe una función es_primo(numero) que determine si un número dado es primo y devuelva True o False en consecuencia.\n",
    "# Reglas: \n",
    "# 1- Los números menores a 2 NO son primos.\n",
    "# 2- Los números divisibles solo por si mismo son primos.\n",
    "\n",
    "def es_primo(numero):\n",
    "    if numero < 2:\n",
    "        return False\n",
    "    lista = range(2, int(numero**0.5)+1)\n",
    "\n",
    "    for n in lista:\n",
    "        if numero%n == 0:\n",
    "            return False\n",
    "        \n",
    "    return True\n",
    "    \n",
    "es_primo(97)"
   ]
  },
  {
   "cell_type": "code",
   "execution_count": 142,
   "metadata": {},
   "outputs": [
    {
     "data": {
      "text/plain": [
       "['banana', 'manzana', 'papa', 'tomate']"
      ]
     },
     "execution_count": 142,
     "metadata": {},
     "output_type": "execute_result"
    }
   ],
   "source": [
    "# Ejercicio 8: Concatenar dos listas\n",
    "# Crea una función concatenar_listas(lista1, lista2) que tome dos listas como argumento y las concatene en una sola lista.\n",
    "\n",
    "frutas = [\"banana\", \"manzana\"]\n",
    "verdura = [\"papa\", \"tomate\"]\n",
    "\n",
    "def conccatenar_listas(lista, lista2):\n",
    "    nueva_lista = lista + lista2\n",
    "    return nueva_lista\n",
    "\n",
    "conccatenar_listas(frutas, verdura)"
   ]
  },
  {
   "cell_type": "code",
   "execution_count": 141,
   "metadata": {},
   "outputs": [
    {
     "name": "stdout",
     "output_type": "stream",
     "text": [
      "[2, 3, 5, 7, 11, 13, 17, 19, 23, 29, 31, 37, 41, 43, 47, 53, 59, 61, 67, 71, 73, 79, 83, 89, 97, 101, 103, 107, 109, 113, 127, 131, 137, 139, 149]\n"
     ]
    }
   ],
   "source": [
    "# Ejercicio 9: Generar una lista de números primos\n",
    "# Escribe una función lista_primos(n) que genere una lista de números primos desde 2 hasta n.\n",
    "\n",
    "def lista_primos(n):\n",
    "    lista = range(2,n+1)\n",
    "    n_primos= []\n",
    "\n",
    "    for n in lista:\n",
    "        if es_primo(n):\n",
    "            n_primos.append(n)\n",
    "        \n",
    "    return n_primos\n",
    "\n",
    "print(lista_primos(150))\n",
    "    "
   ]
  },
  {
   "cell_type": "code",
   "execution_count": 83,
   "metadata": {},
   "outputs": [
    {
     "name": "stdout",
     "output_type": "stream",
     "text": [
      "18.0\n"
     ]
    }
   ],
   "source": [
    "# Ejercicio 10: Calcular el área de un triángulo\n",
    "# Define una función area_triangulo(base, altura) que calcule el área de un triángulo a partir de su base y altura.\n",
    "\n",
    "def area_triangulo(base, altura):\n",
    "    area = (base*altura)/2\n",
    "    return area\n",
    "\n",
    "at = area_triangulo(2,3)\n",
    "\n",
    "area_exagono= at*6\n",
    "\n",
    "print(area_exagono)"
   ]
  }
 ],
 "metadata": {
  "kernelspec": {
   "display_name": ".virtual",
   "language": "python",
   "name": "python3"
  },
  "language_info": {
   "codemirror_mode": {
    "name": "ipython",
    "version": 3
   },
   "file_extension": ".py",
   "mimetype": "text/x-python",
   "name": "python",
   "nbconvert_exporter": "python",
   "pygments_lexer": "ipython3",
   "version": "3.11.5"
  }
 },
 "nbformat": 4,
 "nbformat_minor": 2
}
