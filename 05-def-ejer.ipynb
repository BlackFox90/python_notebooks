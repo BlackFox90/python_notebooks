{
 "cells": [
  {
   "cell_type": "markdown",
   "metadata": {},
   "source": [
    "Ejercicio 1: Suma de números pares\n",
    "Escribe una función llamada suma_pares(n) que tome un número entero positivo n como argumento y devuelva la suma de todos los números pares desde 2 hasta n.\n",
    "\n",
    "Ejercicio 2: Calculadora simple\n",
    "Crea una función llamada calculadora(a, b, operacion) que acepte dos números a y b, y una cadena operacion que puede ser \"suma\", \"resta\", \"multiplicacion\" o \"division\". La función debe realizar la operación correspondiente y devolver el resultado.\n",
    "\n",
    "Ejercicio 3: Contar vocales en una cadena\n",
    "Define una función llamada contar_vocales(cadena) que cuente y devuelva la cantidad de vocales (mayúsculas y minúsculas) en una cadena de texto.\n",
    "\n",
    "Ejercicio 4: Generar lista de números inpares\n",
    "Escribe una función numeros_inpares(n) que tome un número entero n como argumento y genere una lista con todos los números inpares desde 1 hasta n.\n",
    "\n",
    "Ejercicio 5: Calcular el promedio de una lista\n",
    "Crea una función promedio_lista(lista) que calcule el promedio de una lista de números.\n",
    "\n",
    "Ejercicio 6: Calcular factorial\n",
    "Define una función factorial(n) que calcule el factorial de un número entero positivo n.\n",
    "\n",
    "Ejercicio 7: Verificar si un número es primo\n",
    "Escribe una función es_primo(numero) que determine si un número dado es primo y devuelva True o False en consecuencia.\n",
    "\n",
    "Ejercicio 8: Concatenar dos listas\n",
    "Crea una función concatenar_listas(lista1, lista2) que tome dos listas como argumento y las concatene en una sola lista.\n",
    "\n",
    "Ejercicio 9: Generar una lista de números primos\n",
    "Escribe una función lista_primos(n) que genere una lista de números primos desde 2 hasta n.\n",
    "\n",
    "Ejercicio 10: Calcular el área de un triángulo\n",
    "Define una función area_triangulo(base, altura) que calcule el área de un triángulo a partir de su base y altura."
   ]
  },
  {
   "cell_type": "code",
   "execution_count": 27,
   "metadata": {},
   "outputs": [
    {
     "data": {
      "text/plain": [
       "4"
      ]
     },
     "execution_count": 27,
     "metadata": {},
     "output_type": "execute_result"
    }
   ],
   "source": [
    "# Ejercicio 1: Suma de números pares\n",
    "# Escribe una función llamada suma_pares(n) que tome un número entero positivo n como argumento \n",
    "# y devuelva la suma de todos los números pares desde 2 hasta n.\n",
    "\n",
    "def suma_pares(n):\n",
    "\n",
    "    a = 2\n",
    "\n",
    "    if a < n:\n",
    "        a = a + 2\n",
    "    return a\n",
    "\n",
    "suma_pares(8)\n",
    "            \n",
    "    "
   ]
  },
  {
   "cell_type": "code",
   "execution_count": 7,
   "metadata": {},
   "outputs": [
    {
     "data": {
      "text/plain": [
       "-2"
      ]
     },
     "execution_count": 7,
     "metadata": {},
     "output_type": "execute_result"
    }
   ],
   "source": [
    "# Ejercicio 2: Calculadora simple\n",
    "# Crea una función llamada calculadora(a, b, operacion) que acepte dos números a y b, \n",
    "# y una cadena operacion que puede ser \"suma\", \"resta\", \"multiplicacion\" o \"division\". \n",
    "# La función debe realizar la operación correspondiente y devolver el resultado.\n",
    "\n",
    "def calculadora(a, b, operacion):\n",
    "    \n",
    "    if operacion == \"+\":\n",
    "        calculo = a + b\n",
    "        return calculo\n",
    "    if operacion == \"-\":\n",
    "        calculo = a - b\n",
    "        return calculo\n",
    "    if operacion == \"*\":\n",
    "        calculo = a * b\n",
    "        return calculo\n",
    "    if operacion == \"/\":\n",
    "        calculo = a / b\n",
    "        return calculo\n",
    "    \n",
    "calculadora(3,5,\"-\")"
   ]
  },
  {
   "cell_type": "code",
   "execution_count": 21,
   "metadata": {},
   "outputs": [
    {
     "data": {
      "text/plain": [
       "10"
      ]
     },
     "execution_count": 21,
     "metadata": {},
     "output_type": "execute_result"
    }
   ],
   "source": [
    "# Ejercicio 3: Contar vocales en una cadena\n",
    "# Define una función llamada contar_vocales(cadena) que cuente y devuelva la cantidad de vocales (mayúsculas y minúsculas) en una cadena de texto.\n",
    "\n",
    "def contar_vocales(cadena):\n",
    "    vocales = [\"a\", \"A\", \"e\", \"E\", \"i\", \"I\", \"o\", \"O\", \"u\", \"U\"]\n",
    "    resultado = 0\n",
    "\n",
    "    for letra in cadena:\n",
    "        if letra in vocales:\n",
    "            resultado = resultado + 1\n",
    "    return resultado \n",
    "\n",
    "        \n",
    "contar_vocales(\"Ana ve la tele por sU cAsa\")\n"
   ]
  },
  {
   "cell_type": "code",
   "execution_count": null,
   "metadata": {},
   "outputs": [],
   "source": [
    "# Ejercicio 4: Generar lista de números impares\n",
    "# Escribe una función numeros_impares(n) que tome un número entero n como argumento y genere una lista con todos los números impares desde 1 hasta n.\n",
    "\n",
    "def numeros_impares():"
   ]
  },
  {
   "cell_type": "code",
   "execution_count": 22,
   "metadata": {},
   "outputs": [
    {
     "data": {
      "text/plain": [
       "28"
      ]
     },
     "execution_count": 22,
     "metadata": {},
     "output_type": "execute_result"
    }
   ],
   "source": [
    "# Ejercicio 5: Calcular el promedio de una lista\n",
    "# Crea una función promedio_lista(lista) que calcule el promedio de una lista de números.\n",
    "\n",
    "def promedio_lista(*lista):\n",
    "    a = len(lista)\n",
    "    n2 =0\n",
    "    promedio = n2 / a\n",
    "\n",
    "    for n in lista:\n",
    "        n2 = n2 + n\n",
    "    return n2\n",
    "\n",
    "\n",
    "promedio_lista(10, 10, 8)\n"
   ]
  },
  {
   "cell_type": "code",
   "execution_count": null,
   "metadata": {},
   "outputs": [],
   "source": [
    "# Ejercicio 6: Calcular factorial\n",
    "# Define una función factorial(n) que calcule el factorial de un número entero positivo n.\n",
    "\n",
    "def factorial(n):"
   ]
  },
  {
   "cell_type": "code",
   "execution_count": null,
   "metadata": {},
   "outputs": [],
   "source": [
    "# Ejercicio 7: Verificar si un número es primo\n",
    "# Escribe una función es_primo(numero) que determine si un número dado es primo y devuelva True o False en consecuencia.\n",
    "\n",
    "def es_primo(numero):\n",
    "    "
   ]
  },
  {
   "cell_type": "code",
   "execution_count": null,
   "metadata": {},
   "outputs": [],
   "source": [
    "# Ejercicio 8: Concatenar dos listas\n",
    "# Crea una función concatenar_listas(lista1, lista2) que tome dos listas como argumento y las concatene en una sola lista.\n",
    "\n",
    "def conccatenar_listas(lista, lista2):\n",
    "    "
   ]
  },
  {
   "cell_type": "code",
   "execution_count": null,
   "metadata": {},
   "outputs": [],
   "source": [
    "# Ejercicio 9: Generar una lista de números primos\n",
    "# Escribe una función lista_primos(n) que genere una lista de números primos desde 2 hasta n.\n",
    "\n",
    "def lista_primos(n):\n",
    "    "
   ]
  },
  {
   "cell_type": "code",
   "execution_count": 2,
   "metadata": {},
   "outputs": [
    {
     "data": {
      "text/plain": [
       "15.0"
      ]
     },
     "execution_count": 2,
     "metadata": {},
     "output_type": "execute_result"
    }
   ],
   "source": [
    "# Ejercicio 10: Calcular el área de un triángulo\n",
    "# Define una función area_triangulo(base, altura) que calcule el área de un triángulo a partir de su base y altura.\n",
    "\n",
    "def area_triangulo(base, altura):\n",
    "    area = (base*altura)/2\n",
    "    return area\n",
    "\n",
    "area_triangulo(10, 3)"
   ]
  }
 ],
 "metadata": {
  "kernelspec": {
   "display_name": ".virtual",
   "language": "python",
   "name": "python3"
  },
  "language_info": {
   "codemirror_mode": {
    "name": "ipython",
    "version": 3
   },
   "file_extension": ".py",
   "mimetype": "text/x-python",
   "name": "python",
   "nbconvert_exporter": "python",
   "pygments_lexer": "ipython3",
   "version": "3.11.5"
  }
 },
 "nbformat": 4,
 "nbformat_minor": 2
}
