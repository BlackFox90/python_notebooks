{
 "cells": [
  {
   "cell_type": "markdown",
   "metadata": {},
   "source": [
    "# Funciones y Métodos\n",
    "\n",
    "- Son bloques de codigo repetitivos e independientes que pueden retornar un valor (int, str, float, list, dict, ...), las funciones son independientes, mientras que los métodos estan atados a objetos o clases.\n",
    "\n",
    "    ```python\n",
    "    # copy es un método por que depende de el diccionario nati\n",
    "    caro = nati.copy() \n",
    "\n",
    "    # print es una funcion por que no depende de ningun objeto, es independiente\n",
    "    print(caro) \n",
    "    ```"
   ]
  },
  {
   "cell_type": "code",
   "execution_count": 2,
   "metadata": {},
   "outputs": [
    {
     "name": "stdout",
     "output_type": "stream",
     "text": [
      "pablo\n",
      "None\n"
     ]
    }
   ],
   "source": [
    "a = print(\"pablo\")\n",
    "\n",
    "print(a)"
   ]
  },
  {
   "cell_type": "markdown",
   "metadata": {},
   "source": [
    "## Como crear funciones\n",
    "\n",
    "Las funciones se crean con la palabra clave ```def```. En un mismo modulo pueden existir muchas funciones. Un modulo es un contexto que agrupa objetos (variables, constantes, imports, functions) en un mismo lugar, por ejemplo un archivo .py o un archivo .ipynb"
   ]
  },
  {
   "cell_type": "code",
   "execution_count": 4,
   "metadata": {},
   "outputs": [],
   "source": [
    "def sumar():\n",
    "    resultado = 4 + 5\n",
    "    return resultado"
   ]
  },
  {
   "cell_type": "markdown",
   "metadata": {},
   "source": [
    "Los nombres de las funciones siempre tienen que tener un verbo o indicar una accion."
   ]
  },
  {
   "cell_type": "code",
   "execution_count": 6,
   "metadata": {},
   "outputs": [
    {
     "name": "stdout",
     "output_type": "stream",
     "text": [
      "9\n",
      "9\n"
     ]
    }
   ],
   "source": [
    "# forma 1 de usar la funcion\n",
    "\n",
    "sumatoria = sumar()\n",
    "\n",
    "print(sumatoria)\n",
    "\n",
    "# forma 2 de usar la funcion\n",
    "\n",
    "print(sumar())"
   ]
  },
  {
   "cell_type": "markdown",
   "metadata": {},
   "source": [
    "## Parametros\n",
    "\n",
    "Los parametros en las funciones son variables de entrada que pueden ser usados en la funcion"
   ]
  },
  {
   "cell_type": "code",
   "execution_count": 7,
   "metadata": {},
   "outputs": [
    {
     "name": "stdout",
     "output_type": "stream",
     "text": [
      "627\n"
     ]
    }
   ],
   "source": [
    "def sumar(numero1, numero2):\n",
    "    resultado = numero1 + numero2\n",
    "    return resultado\n",
    "\n",
    "print(sumar(500,127))"
   ]
  },
  {
   "cell_type": "markdown",
   "metadata": {},
   "source": [
    "Cuando no se sabe la cantidad de parametros que va a recibir la funcion se puede usar el operador *"
   ]
  },
  {
   "cell_type": "code",
   "execution_count": 18,
   "metadata": {},
   "outputs": [
    {
     "name": "stdout",
     "output_type": "stream",
     "text": [
      "51\n"
     ]
    }
   ],
   "source": [
    "def sumar(*numeros):\n",
    "    resultado = 0 # resultado es un acumulador\n",
    "\n",
    "    for numero in numeros:\n",
    "# esto se lee: guardar en resultado el valor que tiene resultado + numero\n",
    "        resultado = resultado + numero \n",
    "    return resultado \n",
    "\n",
    "print(sumar(4,2,1,8,8, 23, 5))"
   ]
  },
  {
   "cell_type": "markdown",
   "metadata": {},
   "source": [
    "## Ejer"
   ]
  },
  {
   "cell_type": "code",
   "execution_count": 19,
   "metadata": {},
   "outputs": [
    {
     "name": "stdout",
     "output_type": "stream",
     "text": [
      "True\n",
      "True\n",
      "True\n",
      "True\n",
      "True\n"
     ]
    }
   ],
   "source": [
    "s = \"978ghaqerYT84\"\n",
    "\n",
    "if s.isalnum():\n",
    "    print (\"True\")\n",
    "else:\n",
    "    print (\"False\")\n",
    "\n",
    "existe = False\n",
    "for i in s:\n",
    "    if i.isalpha():\n",
    "        existe = True\n",
    "        print (\"True\")\n",
    "        break\n",
    "if not existe:\n",
    "    print(\"False\")\n",
    "\n",
    "existe = False        \n",
    "for i in s:\n",
    "    if i.isdigit():\n",
    "        existe = 1\n",
    "        print (\"True\")\n",
    "        break\n",
    "if not existe:\n",
    "    print(\"False\")\n",
    "    \n",
    "existe = False        \n",
    "for i in s:\n",
    "    if i.islower():\n",
    "        existe = 1\n",
    "        print (\"True\")\n",
    "        break\n",
    "if not existe:\n",
    "    print(\"False\")\n",
    "    \n",
    "# existe = False        \n",
    "# for i in s:\n",
    "#     if i.isupper():\n",
    "#         existe = 1\n",
    "#         print (\"True\")\n",
    "#         break\n",
    "# if not existe:\n",
    "#     print(\"False\")  \n",
    "\n",
    "temp = any(i.isupper() for i in s)\n",
    "print(temp)"
   ]
  },
  {
   "cell_type": "code",
   "execution_count": 13,
   "metadata": {},
   "outputs": [
    {
     "name": "stdout",
     "output_type": "stream",
     "text": [
      "[False, False, False, True, False, False, False]\n",
      "True\n"
     ]
    }
   ],
   "source": [
    "s = \"ga3Rby9\"\n",
    "\n",
    "x = [i.isupper() for i in s]\n",
    "\n",
    "print(x)\n",
    "print(any(x))"
   ]
  }
 ],
 "metadata": {
  "kernelspec": {
   "display_name": ".virtual",
   "language": "python",
   "name": "python3"
  },
  "language_info": {
   "codemirror_mode": {
    "name": "ipython",
    "version": 3
   },
   "file_extension": ".py",
   "mimetype": "text/x-python",
   "name": "python",
   "nbconvert_exporter": "python",
   "pygments_lexer": "ipython3",
   "version": "3.11.5"
  }
 },
 "nbformat": 4,
 "nbformat_minor": 2
}
