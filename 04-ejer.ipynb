{
 "cells": [
  {
   "cell_type": "markdown",
   "metadata": {},
   "source": [
    "1. Creación de un diccionario básico: Crea un diccionario que represente información de una persona (nombre, edad, ciudad). Luego, imprime el contenido del diccionario.\n",
    "\n",
    "2. Acceso a valores: Accede a un valor específico en el diccionario creado en el ejercicio anterior (por ejemplo, imprime solo el nombre).\n",
    "\n",
    "3. Modificar valores: Modifica uno de los valores en el diccionario (por ejemplo, cambia la edad de la persona).\n",
    "\n",
    "4. Agregar elementos: Agrega un nuevo par clave-valor al diccionario (por ejemplo, agrega la clave \"género\" y el valor \"masculino\").\n",
    "\n",
    "5. Eliminar elementos: Elimina una clave y su valor del diccionario.\n",
    "\n",
    "6. Bucle a través de un diccionario: Utiliza un bucle para imprimir todas las claves del diccionario.\n",
    "\n",
    "7. Bucle a través de valores: Utiliza un bucle para imprimir todos los valores del diccionario.\n",
    "\n",
    "8. Bucle a través de ítems: Utiliza un bucle para imprimir todas las claves y sus valores correspondientes.\n",
    "\n",
    "9. Combinar diccionarios: Crea dos diccionarios diferentes y combínalos en uno solo.\n",
    "\n",
    "10. Verificación de existencia de una clave: Escribe un programa que verifique si una clave específica existe en un diccionario y luego imprima un mensaje adecuado en función del resultado.\n"
   ]
  },
  {
   "cell_type": "code",
   "execution_count": 6,
   "metadata": {},
   "outputs": [
    {
     "name": "stdout",
     "output_type": "stream",
     "text": [
      "{   'apellido': 'Garcia',\n",
      "    'ciudad': 'CABA',\n",
      "    'edad': 45,\n",
      "    'estado civil': 'soltero',\n",
      "    'nacionalidad': 'Argentina',\n",
      "    'nombre': 'Ramon'}\n"
     ]
    }
   ],
   "source": [
    "# 1. Creación de un diccionario básico: Crea un diccionario que represente información de una persona (nombre, edad, ciudad). \n",
    "# Luego, imprime el contenido del diccionario.\n",
    "import pprint\n",
    "\n",
    "pp = pprint.PrettyPrinter(indent=4)\n",
    "\n",
    "usuario = {\n",
    "    \"nombre\": \"Ramon\",\n",
    "    \"apellido\": \"Garcia\",\n",
    "    \"edad\": 45,\n",
    "    \"nacionalidad\": \"Argentina\",\n",
    "    \"ciudad\": \"CABA\",\n",
    "    \"estado civil\": \"soltero\"\n",
    "}\n",
    "\n",
    "pp.pprint(usuario)\n"
   ]
  },
  {
   "cell_type": "code",
   "execution_count": 4,
   "metadata": {},
   "outputs": [
    {
     "name": "stdout",
     "output_type": "stream",
     "text": [
      "45\n"
     ]
    }
   ],
   "source": [
    "# 2. Acceso a valores: Accede a un valor específico en el diccionario \n",
    "# creado en el ejercicio anterior (por ejemplo, imprime solo el nombre).\n",
    "\n",
    "print(usuario[\"edad\"])"
   ]
  },
  {
   "cell_type": "code",
   "execution_count": 6,
   "metadata": {},
   "outputs": [
    {
     "name": "stdout",
     "output_type": "stream",
     "text": [
      "{'nombre': 'Ramon', 'apellido': 'Garcia', 'edad': 46, 'nacionalidad': 'Argentina', 'ciudad': 'CABA', 'estado civil': 'soltero'}\n"
     ]
    }
   ],
   "source": [
    "# 3. Modificar valores: Modifica uno de los valores en el diccionario (por ejemplo, cambia la edad de la persona).\n",
    "\n",
    "nueva_edad = {\n",
    "    \"edad\": 46\n",
    "}\n",
    "\n",
    "usuario.update(nueva_edad)\n",
    "\n",
    "print(usuario)"
   ]
  },
  {
   "cell_type": "code",
   "execution_count": 7,
   "metadata": {},
   "outputs": [
    {
     "name": "stdout",
     "output_type": "stream",
     "text": [
      "{'nombre': 'Ramon', 'apellido': 'Garcia', 'edad': 46, 'nacionalidad': 'Argentina', 'ciudad': 'CABA', 'estado civil': 'soltero', 'género': 'masculino'}\n"
     ]
    }
   ],
   "source": [
    "# 4. Agregar elementos: Agrega un nuevo par clave-valor al diccionario (por ejemplo, agrega la clave \"género\" y el valor \"masculino\").\n",
    "\n",
    "nueva_info = {\n",
    "    \"género\": \"masculino\"\n",
    "}\n",
    "\n",
    "usuario.update(nueva_info)\n",
    "\n",
    "print(usuario)"
   ]
  },
  {
   "cell_type": "code",
   "execution_count": 9,
   "metadata": {},
   "outputs": [
    {
     "name": "stdout",
     "output_type": "stream",
     "text": [
      "{'nombre': 'Ramon', 'apellido': 'Garcia', 'nacionalidad': 'Argentina', 'ciudad': 'CABA', 'estado civil': 'soltero', 'género': 'masculino'}\n"
     ]
    }
   ],
   "source": [
    "# 5. Eliminar elementos: Elimina una clave y su valor del diccionario.\n",
    "# encontré este método en internet ya que no estaba en la info de diccionario\n",
    "\n",
    "usuario.pop(\"edad\")\n",
    "\n",
    "print(usuario)\n",
    "\n"
   ]
  },
  {
   "cell_type": "code",
   "execution_count": 24,
   "metadata": {},
   "outputs": [
    {
     "name": "stdout",
     "output_type": "stream",
     "text": [
      "dict_keys(['nombre', 'apellido', 'edad', 'nacionalidad', 'ciudad', 'estado civil'])\n",
      "nombre\n",
      "apellido\n",
      "edad\n",
      "nacionalidad\n",
      "ciudad\n",
      "estado civil\n"
     ]
    }
   ],
   "source": [
    "# 6. Bucle a través de un diccionario: Utiliza un bucle para imprimir todas las claves del diccionario.\n",
    "# no se si es esto a lo que se refiere\n",
    "\n",
    "clave = usuario.keys()\n",
    "print(clave)\n",
    "\n",
    "for clave in usuario:\n",
    "    print(clave)"
   ]
  },
  {
   "cell_type": "code",
   "execution_count": 7,
   "metadata": {},
   "outputs": [
    {
     "name": "stdout",
     "output_type": "stream",
     "text": [
      "dict_values(['Ramon', 'Garcia', 45, 'Argentina', 'CABA', 'soltero'])\n",
      "Ramon\n",
      "Garcia\n",
      "45\n",
      "Argentina\n",
      "CABA\n",
      "soltero\n"
     ]
    }
   ],
   "source": [
    "# 7. Bucle a través de valores: Utiliza un bucle para imprimir todos los valores del diccionario.\n",
    "# encontré este método en internet ya que no estaba en la info de diccionario\n",
    "\n",
    "valores = usuario.values()\n",
    "print(valores)\n",
    "\n",
    "for clave, valor in usuario.items():\n",
    "    print(valor)"
   ]
  },
  {
   "cell_type": "code",
   "execution_count": 8,
   "metadata": {},
   "outputs": [
    {
     "name": "stdout",
     "output_type": "stream",
     "text": [
      "nombre Ramon\n",
      "apellido Garcia\n",
      "edad 45\n",
      "nacionalidad Argentina\n",
      "ciudad CABA\n",
      "estado civil soltero\n"
     ]
    }
   ],
   "source": [
    "# 8. Bucle a través de ítems: Utiliza un bucle para imprimir todas las claves y sus valores correspondientes.\n",
    "\n",
    "for clave, valor in usuario.items():\n",
    "    print(clave, valor)\n"
   ]
  },
  {
   "cell_type": "code",
   "execution_count": 15,
   "metadata": {},
   "outputs": [
    {
     "name": "stdout",
     "output_type": "stream",
     "text": [
      "{'nombre': 'Miguel', 'apellido': 'Turron', 'edad': 28, 'hijos': 0, 'estado civil': 'soltero', 'nombre madre': 'Susana', 'nombre padre': 'Carlos'}\n"
     ]
    }
   ],
   "source": [
    "# 9. Combinar diccionarios: Crea dos diccionarios diferentes y combínalos en uno solo.\n",
    "\n",
    "usuario = {\n",
    "    \"nombre\": \"Miguel\",\n",
    "    \"apellido\": \"Turron\",\n",
    "    \"edad\": 28\n",
    "}\n",
    "\n",
    "familia = {\n",
    "    \"hijos\": 0,\n",
    "    \"estado civil\": \"soltero\",\n",
    "    \"nombre madre\": \"Susana\",\n",
    "    \"nombre padre\": \"Carlos\"\n",
    "}\n",
    "\n",
    "usuario.update(familia)\n",
    "usuario_completo = usuario\n",
    "\n",
    "print(usuario_completo)\n"
   ]
  },
  {
   "cell_type": "code",
   "execution_count": 24,
   "metadata": {},
   "outputs": [
    {
     "name": "stdout",
     "output_type": "stream",
     "text": [
      "La información indicada por el usuario es hijos : 0\n"
     ]
    }
   ],
   "source": [
    "# 10. Verificación de existencia de una clave: Escribe un programa que verifique si una clave específica \n",
    "# existe en un diccionario y luego imprima un mensaje adecuado en función del resultado.\n",
    "clave = input(\"Por favor ingresar una clave\")\n",
    "\n",
    "\n",
    "if clave in usuario_completo:\n",
    "    print(\"La información indicada por el usuario es\", clave, \":\", usuario_completo[clave])\n",
    "\n",
    "else:\n",
    "    print(\"No se encontró la información, la clave indicada no forma parte del diccionario\")"
   ]
  },
  {
   "cell_type": "markdown",
   "metadata": {},
   "source": [
    "1. Creación de un diccionario anidado: Crea un diccionario que contenga al menos un par clave-valor cuyo valor sea otro diccionario. Por ejemplo, puedes tener un diccionario que represente información sobre libros, y uno de los valores podría ser un diccionario con detalles adicionales del libro.\n",
    "\n",
    "2. Acceso a valores anidados: Accede a un valor específico dentro de un diccionario anidado. Por ejemplo, si tienes un diccionario de libros, accede al título de un libro específico.\n",
    "\n",
    "3. Modificación de valores anidados: Modifica un valor dentro de un diccionario anidado. Por ejemplo, cambia el autor de un libro en tu diccionario de libros.\n",
    "\n",
    "4. Creación de una lista de diccionarios: Crea una lista que contenga varios diccionarios. Por ejemplo, puedes tener una lista de personas, donde cada persona está representada por un diccionario con información personal.\n",
    "\n",
    "5. Acceso a elementos de una lista de diccionarios: Accede a un elemento específico dentro de la lista de diccionarios y luego accede a un valor dentro de ese diccionario. Por ejemplo, accede al nombre de la segunda persona en tu lista de personas.\n",
    "\n",
    "6. Modificación de elementos de una lista de diccionarios: Modifica un valor dentro de uno de los diccionarios en la lista. Por ejemplo, cambia la dirección de la tercera persona en tu lista de personas.\n",
    "\n",
    "7. Combinación de diccionarios anidados: Crea un diccionario que contenga varios niveles de anidación, donde las claves sean diccionarios y las hojas sean valores. Por ejemplo, un diccionario que represente la estructura de una organización.\n",
    "\n",
    "8. Recorrido de estructuras anidadas: Escribe un programa que recorra y muestre todos los valores dentro de una estructura de datos anidada (diccionarios dentro de listas dentro de diccionarios, etc.).\n",
    "\n",
    "9. Búsqueda de datos en estructuras anidadas: Escribe una función que busque un valor específico en una estructura de datos anidada y devuelva su ubicación (claves o índices) si se encuentra.\n",
    "\n",
    "10. Modificación de valores en estructuras anidadas: Crea una función que modifique un valor específico dentro de una estructura de datos anidada, dada su ubicación (claves o índices)."
   ]
  },
  {
   "cell_type": "code",
   "execution_count": 12,
   "metadata": {},
   "outputs": [
    {
     "name": "stdout",
     "output_type": "stream",
     "text": [
      "{   'direccion': {'calle': 'Av Maipú', 'localidad': 'Catamara', 'número': 1352},\n",
      "    'libros': [   {   'autor': 'Pepe',\n",
      "                      'año de lanzamiento': 1953,\n",
      "                      'titulo': 'Blancanieves'},\n",
      "                  {   'autor': 'Luis',\n",
      "                      'año de lanzamiento': 1880,\n",
      "                      'titulo': 'Caperucita Roja'},\n",
      "                  {   'autor': 'Ramona',\n",
      "                      'año de lanzamiento': 1982,\n",
      "                      'titulo': 'Cenicienta'}]}\n"
     ]
    }
   ],
   "source": [
    "# 1. Creación de un diccionario anidado: Crea un diccionario que contenga al menos un par clave-valor cuyo valor sea otro diccionario. \n",
    "# Por ejemplo, puedes tener un diccionario que represente información sobre libros,\n",
    "# y uno de los valores podría ser un diccionario con detalles adicionales del libro.\n",
    "\n",
    "biblioteca = {\n",
    "    \"libros\": [{\n",
    "        \"titulo\": \"Blancanieves\",\n",
    "        \"año de lanzamiento\": 1953,\n",
    "        \"autor\": \"Pepe\"\n",
    "    },{\n",
    "        \"titulo\": \"Caperucita Roja\",\n",
    "        \"año de lanzamiento\": 1880,\n",
    "        \"autor\": \"Luis\"\n",
    "    },{\n",
    "        \"titulo\":\"Cenicienta\",\n",
    "        \"año de lanzamiento\": 1982,\n",
    "        \"autor\": \"Ramona\"\n",
    "    }],\n",
    "    \"direccion\": {\n",
    "        \"calle\": \"Av Maipú\",\n",
    "        \"número\": 1352,\n",
    "        \"localidad\": \"Catamara\"\n",
    "    }\n",
    "}\n",
    "\n",
    "pp.pprint(biblioteca)\n"
   ]
  },
  {
   "cell_type": "code",
   "execution_count": 14,
   "metadata": {},
   "outputs": [
    {
     "name": "stdout",
     "output_type": "stream",
     "text": [
      "Luis\n",
      "Catamara\n"
     ]
    }
   ],
   "source": [
    "# 2. Acceso a valores anidados: Accede a un valor específico dentro de un diccionario anidado. \n",
    "# Por ejemplo, si tienes un diccionario de libros, accede al título de un libro específico.\n",
    "diccionario = biblioteca\n",
    "\n",
    "print(diccionario[\"libros\"][1][\"autor\"])\n",
    "print(diccionario[\"direccion\"][\"localidad\"])"
   ]
  },
  {
   "cell_type": "code",
   "execution_count": 23,
   "metadata": {},
   "outputs": [
    {
     "name": "stdout",
     "output_type": "stream",
     "text": [
      "{   'direccion': {   'calle': 'Las leñas',\n",
      "                     'localidad': 'Catamara',\n",
      "                     'número': 1445},\n",
      "    'libros': [   {   'autor': 'Pepe',\n",
      "                      'año de lanzamiento': 1953,\n",
      "                      'titulo': 'Blancanieves'},\n",
      "                  {   'autor': 'Luisa',\n",
      "                      'año de lanzamiento': 1880,\n",
      "                      'titulo': 'Caperucita Roja'},\n",
      "                  {   'autor': 'Ramona',\n",
      "                      'año de lanzamiento': 1982,\n",
      "                      'titulo': 'Cenicienta'}]}\n"
     ]
    }
   ],
   "source": [
    "# 3. Modificación de valores anidados: Modifica un valor dentro de un diccionario anidado. \n",
    "# Por ejemplo, cambia el autor de un libro en tu diccionario de libros.\n",
    "\n",
    "cambios = {\n",
    "    \"direccion\": {\n",
    "    \"calle\": \"Av Maipú\",\n",
    "    \"número\": 1352,\n",
    "    \"localidad\": \"Merlo\"\n",
    "    }\n",
    "}\n",
    "\n",
    "diccionario.update(cambios)\n",
    "\n",
    "# pp.pprint(diccionario)\n",
    "\n",
    "numero = 1223\n",
    "calle = \"Los Alamos\"\n",
    "\n",
    "biblioteca_dos = {\n",
    "    \"libros\": [{\n",
    "        \"titulo\": \"Blancanieves\",\n",
    "        \"año de lanzamiento\": 1953,\n",
    "        \"autor\": \"Pepe\"\n",
    "    },{\n",
    "        \"titulo\": \"Caperucita Roja\",\n",
    "        \"año de lanzamiento\": 1880,\n",
    "        \"autor\": \"Luis\"\n",
    "    },{\n",
    "        \"titulo\":\"Cenicienta\",\n",
    "        \"año de lanzamiento\": 1982,\n",
    "        \"autor\": \"Ramona\"\n",
    "    }],\n",
    "    \"direccion\": {\n",
    "        \"calle\": calle,\n",
    "        \"número\": numero,\n",
    "        \"localidad\": \"Catamara\"\n",
    "    }\n",
    "}\n",
    "\n",
    "# pp.pprint(biblioteca_dos)\n",
    "\n",
    "biblioteca_dos[\"direccion\"][\"calle\"] = \"Las leñas\"\n",
    "\n",
    "# print(biblioteca_dos[\"direccion\"][\"calle\"])\n",
    "\n",
    "biblioteca_dos[\"direccion\"][\"número\"] = 1445\n",
    "biblioteca_dos[\"libros\"][1][\"autor\"] = \"Luisa\"\n",
    "\n",
    "pp.pprint(biblioteca_dos)"
   ]
  },
  {
   "cell_type": "code",
   "execution_count": 7,
   "metadata": {},
   "outputs": [
    {
     "name": "stdout",
     "output_type": "stream",
     "text": [
      "{   'empleados': [   {   'DNI': 32456123,\n",
      "                         'apellido': 'Torres',\n",
      "                         'edad': 34,\n",
      "                         'genero': 'masculino',\n",
      "                         'nombre': 'Ramon',\n",
      "                         'puesto': 'vendedor'},\n",
      "                     {   'DNI': 28098345,\n",
      "                         'apellido': 'Garcia',\n",
      "                         'edad': 38,\n",
      "                         'genero': 'masculino',\n",
      "                         'nombre': 'Pepe',\n",
      "                         'puesto': 'gerente'},\n",
      "                     {   'DNI': 18459156,\n",
      "                         'apellido': 'Milan',\n",
      "                         'edad': 34,\n",
      "                         'genero': 'femenino',\n",
      "                         'nombre': 'Laura',\n",
      "                         'puesto': 'cajera'},\n",
      "                     {   'DNI': 22915375,\n",
      "                         'apellido': 'Puma',\n",
      "                         'edad': 34,\n",
      "                         'genero': 'femenino',\n",
      "                         'nombre': 'Maria',\n",
      "                         'puesto': 'vendedora'}],\n",
      "    'nombre': 'Casa y Amigos'}\n"
     ]
    }
   ],
   "source": [
    "# 4. Creación de una lista de diccionarios: Crea una lista que contenga varios diccionarios. \n",
    "# Por ejemplo, puedes tener una lista de personas, donde cada persona está representada por un diccionario con información personal.\n",
    "\n",
    "empresa = {\n",
    "    \"nombre\": \"Casa y Amigos\",\n",
    "\n",
    "    \"empleados\": [{\n",
    "        \"nombre\": \"Ramon\",\n",
    "        \"edad\": 34,\n",
    "        \"genero\": \"masculino\",\n",
    "        \"apellido\": \"Torres\",\n",
    "        \"puesto\": \"vendedor\",\n",
    "        \"DNI\": 32456123\n",
    "    },{\n",
    "        \"nombre\": \"Pepe\",\n",
    "        \"edad\": 38,\n",
    "        \"genero\": \"masculino\",\n",
    "        \"apellido\": \"Garcia\",\n",
    "        \"puesto\": \"gerente\",\n",
    "        \"DNI\": 28098345\n",
    "    },{\n",
    "        \"nombre\": \"Laura\",\n",
    "        \"edad\": 34,\n",
    "        \"genero\": \"femenino\",\n",
    "        \"apellido\": \"Milan\",\n",
    "        \"puesto\": \"cajera\",\n",
    "        \"DNI\": 18459156\n",
    "    },{\n",
    "        \"nombre\": \"Maria\",\n",
    "        \"edad\": 34,\n",
    "        \"genero\": \"femenino\",\n",
    "        \"apellido\": \"Puma\",\n",
    "        \"puesto\": \"vendedora\",\n",
    "        \"DNI\": 22915375\n",
    "    }]\n",
    "}\n",
    "\n",
    "pp.pprint(empresa)"
   ]
  },
  {
   "cell_type": "code",
   "execution_count": 48,
   "metadata": {},
   "outputs": [
    {
     "name": "stdout",
     "output_type": "stream",
     "text": [
      "Pepe\n"
     ]
    }
   ],
   "source": [
    "# 5. Acceso a elementos de una lista de diccionarios: Accede a un elemento específico dentro de la lista de diccionarios. \n",
    "# luego accede a un valor dentro de ese diccionario. Por ejemplo, accede al nombre de la segunda persona en tu lista de personas.\n",
    "\n",
    "print(empresa[\"empleados\"][1][\"nombre\"])"
   ]
  },
  {
   "cell_type": "code",
   "execution_count": 9,
   "metadata": {},
   "outputs": [
    {
     "name": "stdout",
     "output_type": "stream",
     "text": [
      "{   'empleados': [   {   'DNI': 32456123,\n",
      "                         'apellido': 'Torres',\n",
      "                         'edad': 34,\n",
      "                         'genero': 'masculino',\n",
      "                         'nombre': 'Ramon',\n",
      "                         'puesto': 'vendedor'},\n",
      "                     {   'DNI': 28098345,\n",
      "                         'apellido': 'Garcia',\n",
      "                         'edad': 38,\n",
      "                         'genero': 'masculino',\n",
      "                         'nombre': 'Pepe',\n",
      "                         'puesto': 'gerente'},\n",
      "                     {   'DNI': 9999999,\n",
      "                         'apellido': 'Milan',\n",
      "                         'edad': 34,\n",
      "                         'genero': 'femenino',\n",
      "                         'nombre': 'Laura',\n",
      "                         'puesto': 'cajera'},\n",
      "                     {   'DNI': 22915375,\n",
      "                         'apellido': 'Puma',\n",
      "                         'edad': 34,\n",
      "                         'genero': 'femenino',\n",
      "                         'nombre': 'Maria',\n",
      "                         'puesto': 'vendedora'}],\n",
      "    'nombre': 'Casa y Amigos'}\n"
     ]
    }
   ],
   "source": [
    "# 6. Modificación de elementos de una lista de diccionarios: Modifica un valor dentro de uno de los diccionarios en la lista. \n",
    "# Por ejemplo, cambia la dirección de la tercera persona en tu lista de personas.\n",
    "\n",
    "# pp.pprint(empresa)\n",
    "\n",
    "empresa[\"empleados\"][2][\"DNI\"] = 9999999\n",
    "\n",
    "pp.pprint(empresa)\n"
   ]
  },
  {
   "cell_type": "code",
   "execution_count": 10,
   "metadata": {},
   "outputs": [
    {
     "name": "stdout",
     "output_type": "stream",
     "text": [
      "{   'miembro': [   {   'activo': [   {   'DNI': 18459156,\n",
      "                                         'apellido': 'Milan',\n",
      "                                         'edad': 34,\n",
      "                                         'genero': 'femenino',\n",
      "                                         'nombre': 'Laura'},\n",
      "                                     {   'DNI': 22915375,\n",
      "                                         'apellido': 'Puma',\n",
      "                                         'edad': 34,\n",
      "                                         'genero': 'femenino',\n",
      "                                         'nombre': 'Maria'}],\n",
      "                       'fundador': [   {   'DNI': 32456123,\n",
      "                                           'apellido': 'Torres',\n",
      "                                           'edad': 34,\n",
      "                                           'genero': 'masculino',\n",
      "                                           'nombre': 'Ramon'},\n",
      "                                       {   'DNI': 28098345,\n",
      "                                           'apellido': 'Garcia',\n",
      "                                           'edad': 38,\n",
      "                                           'genero': 'masculino',\n",
      "                                           'nombre': 'Pepe'}]}],\n",
      "    'nombre': 'amantes de los osos'}\n"
     ]
    }
   ],
   "source": [
    "# 7. Combinación de diccionarios anidados: Crea un diccionario que contenga varios niveles de anidación, \n",
    "# donde las claves sean diccionarios y las hojas sean valores. Por ejemplo, un diccionario que represente la estructura de una organización.\n",
    "\n",
    "organización = {\n",
    "    \"nombre\": \"amantes de los osos\",\n",
    "    \"miembro\": [{\n",
    "        \"fundador\": [{\n",
    "            \"nombre\": \"Ramon\",\n",
    "            \"edad\": 34,\n",
    "            \"genero\": \"masculino\",\n",
    "            \"apellido\": \"Torres\",\n",
    "            \"DNI\": 32456123\n",
    "        },{\n",
    "            \"nombre\": \"Pepe\",\n",
    "            \"edad\": 38,\n",
    "            \"genero\": \"masculino\",\n",
    "            \"apellido\": \"Garcia\",\n",
    "            \"DNI\": 28098345\n",
    "        }],\n",
    "        \"activo\": [{\n",
    "            \"nombre\": \"Laura\",\n",
    "            \"edad\": 34,\n",
    "            \"genero\": \"femenino\",\n",
    "            \"apellido\": \"Milan\",\n",
    "            \"DNI\": 18459156\n",
    "        },{\n",
    "            \"nombre\": \"Maria\",\n",
    "            \"edad\": 34,\n",
    "            \"genero\": \"femenino\",\n",
    "            \"apellido\": \"Puma\",\n",
    "            \"DNI\": 22915375\n",
    "        }]\n",
    "    }]\n",
    "}\n",
    "\n",
    "pp.pprint(organización)"
   ]
  },
  {
   "cell_type": "code",
   "execution_count": 23,
   "metadata": {},
   "outputs": [
    {
     "name": "stdout",
     "output_type": "stream",
     "text": [
      "{   'activo': [   {   'DNI': 18459156,\n",
      "                      'apellido': 'Milan',\n",
      "                      'edad': 34,\n",
      "                      'genero': 'femenino',\n",
      "                      'nombre': 'Laura'},\n",
      "                  {   'DNI': 22915375,\n",
      "                      'apellido': 'Puma',\n",
      "                      'edad': 34,\n",
      "                      'genero': 'femenino',\n",
      "                      'nombre': 'Maria'}],\n",
      "    'fundador': [   {   'DNI': 32456123,\n",
      "                        'apellido': 'Torres',\n",
      "                        'edad': 34,\n",
      "                        'genero': 'masculino',\n",
      "                        'nombre': 'Ramon'},\n",
      "                    {   'DNI': 28098345,\n",
      "                        'apellido': 'Garcia',\n",
      "                        'edad': 38,\n",
      "                        'genero': 'masculino',\n",
      "                        'nombre': 'Pepe'}]}\n"
     ]
    }
   ],
   "source": [
    "# 8. Recorrido de estructuras anidadas: Escribe un programa que recorra y muestre todos los valores \n",
    "# dentro de una estructura de datos anidada (diccionarios dentro de listas dentro de diccionarios, etc.).\n",
    "\n",
    "for clave in organización[\"miembro\"]:\n",
    "    pp.pprint(clave)\n"
   ]
  },
  {
   "cell_type": "code",
   "execution_count": 31,
   "metadata": {},
   "outputs": [
    {
     "name": "stdout",
     "output_type": "stream",
     "text": [
      "{   'activo': [   {   'DNI': 18459156,\n",
      "                      'apellido': 'Milan',\n",
      "                      'edad': 34,\n",
      "                      'genero': 'femenino',\n",
      "                      'nombre': 'Laura'},\n",
      "                  {   'DNI': 22915375,\n",
      "                      'apellido': 'Puma',\n",
      "                      'edad': 34,\n",
      "                      'genero': 'femenino',\n",
      "                      'nombre': 'Maria'}],\n",
      "    'fundador': [   {   'DNI': 32456123,\n",
      "                        'apellido': 'Torres',\n",
      "                        'edad': 34,\n",
      "                        'genero': 'masculino',\n",
      "                        'nombre': 'Ramon'},\n",
      "                    {   'DNI': 28098345,\n",
      "                        'apellido': 'Garcia',\n",
      "                        'edad': 38,\n",
      "                        'genero': 'masculino',\n",
      "                        'nombre': 'Pepe'}]}\n"
     ]
    }
   ],
   "source": [
    "# 9. Búsqueda de datos en estructuras anidadas: Escribe una función que busque un valor específico \n",
    "# en una estructura de datos anidada y devuelva su ubicación (claves o índices) si se encuentra.\n",
    "\n",
    "for clave in organización[\"miembro\"]:\n",
    "    pp.pprint(clave)"
   ]
  },
  {
   "cell_type": "code",
   "execution_count": null,
   "metadata": {},
   "outputs": [],
   "source": [
    "# 10. Modificación de valores en estructuras anidadas: Crea una función que modifique un valor \n",
    "# específico dentro de una estructura de datos anidada, dada su ubicación (claves o índices)."
   ]
  }
 ],
 "metadata": {
  "kernelspec": {
   "display_name": ".virtual",
   "language": "python",
   "name": "python3"
  },
  "language_info": {
   "codemirror_mode": {
    "name": "ipython",
    "version": 3
   },
   "file_extension": ".py",
   "mimetype": "text/x-python",
   "name": "python",
   "nbconvert_exporter": "python",
   "pygments_lexer": "ipython3",
   "version": "3.11.5"
  }
 },
 "nbformat": 4,
 "nbformat_minor": 2
}
