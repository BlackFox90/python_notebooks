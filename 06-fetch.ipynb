{
 "cells": [
  {
   "cell_type": "markdown",
   "metadata": {},
   "source": [
    "## Request (petición)"
   ]
  },
  {
   "cell_type": "code",
   "execution_count": 2,
   "metadata": {},
   "outputs": [
    {
     "name": "stdout",
     "output_type": "stream",
     "text": [
      "[   {   'ability': {   'name': 'static',\n",
      "                       'url': 'https://pokeapi.co/api/v2/ability/9/'},\n",
      "        'is_hidden': False,\n",
      "        'slot': 1},\n",
      "    {   'ability': {   'name': 'lightning-rod',\n",
      "                       'url': 'https://pokeapi.co/api/v2/ability/31/'},\n",
      "        'is_hidden': True,\n",
      "        'slot': 3}]\n"
     ]
    }
   ],
   "source": [
    "import pprint\n",
    "import requests\n",
    "\n",
    "pp = pprint.PrettyPrinter(indent=4)\n",
    "\n",
    "response = requests.get(\"https://pokeapi.co/api/v2/pokemon/pikachu\")\n",
    "\n",
    "pikachu = response.json()\n",
    "\n",
    "pp.pprint(pikachu[\"abilities\"])"
   ]
  },
  {
   "cell_type": "markdown",
   "metadata": {},
   "source": [
    "## HTTP Codes\n",
    "\n",
    "https://en.wikipedia.org/wiki/List_of_HTTP_status_codes"
   ]
  },
  {
   "cell_type": "code",
   "execution_count": 57,
   "metadata": {},
   "outputs": [
    {
     "name": "stdout",
     "output_type": "stream",
     "text": [
      "{   'evolucion': 'pikachu',\n",
      "    'habilidades': [   {   'ability': {   'name': 'static',\n",
      "                                          'url': 'https://pokeapi.co/api/v2/ability/9/'},\n",
      "                           'is_hidden': False,\n",
      "                           'slot': 1},\n",
      "                       {   'ability': {   'name': 'lightning-rod',\n",
      "                                          'url': 'https://pokeapi.co/api/v2/ability/31/'},\n",
      "                           'is_hidden': True,\n",
      "                           'slot': 3}],\n",
      "    'id': 25,\n",
      "    'nombre': 'pikachu'}\n"
     ]
    }
   ],
   "source": [
    "def buscar_pokemon(pokemon):\n",
    "\n",
    "    response = requests.get(f\"https://pokeapi.co/api/v2/pokemon/{pokemon}\")\n",
    "    id = \"10\"\n",
    "\n",
    "    if response.status_code == 404:\n",
    "        return f\"El pokemon {pokemon} no existe\" \n",
    "\n",
    "    info = response.json()\n",
    "    evo_response = requests.get(f'https://pokeapi.co/api/v2/evolution-chain/{id}/')\n",
    "    evolution = evo_response.json()\n",
    "\n",
    "    pokedex = {\n",
    "        \"nombre\": info[\"name\"],\n",
    "        \"id\" : info[\"id\"],\n",
    "        \"habilidades\": info[\"abilities\"],\n",
    "        \"evolucion\": evolution[\"chain\"][\"evolves_to\"][0][\"species\"][\"name\"]\n",
    "    }\n",
    "\n",
    "\n",
    "    return pokedex\n",
    "\n",
    "pp.pprint(buscar_pokemon(\"pikachu\"))\n",
    "    "
   ]
  },
  {
   "cell_type": "code",
   "execution_count": 4,
   "metadata": {},
   "outputs": [
    {
     "name": "stdout",
     "output_type": "stream",
     "text": [
      "{   'docs': [   {   '_id': '5cf5805fb53e011a64671582',\n",
      "                    'name': 'The Fellowship Of The Ring'},\n",
      "                {'_id': '5cf58077b53e011a64671583', 'name': 'The Two Towers'},\n",
      "                {   '_id': '5cf58080b53e011a64671584',\n",
      "                    'name': 'The Return Of The King'}],\n",
      "    'limit': 1000,\n",
      "    'offset': 0,\n",
      "    'page': 1,\n",
      "    'pages': 1,\n",
      "    'total': 3}\n"
     ]
    }
   ],
   "source": [
    "def get_lotr():\n",
    "    response = requests.get(\"https://the-one-api.dev/v2/book\")\n",
    "    lotr_books = response.json()\n",
    "\n",
    "    return lotr_books\n",
    "\n",
    "pp.pprint(get_lotr())"
   ]
  },
  {
   "cell_type": "code",
   "execution_count": 3,
   "metadata": {},
   "outputs": [
    {
     "name": "stdout",
     "output_type": "stream",
     "text": [
      "{   'docs': [   {   '_id': '5cd95395de30eff6ebccde56',\n",
      "                    'academyAwardNominations': 30,\n",
      "                    'academyAwardWins': 17,\n",
      "                    'boxOfficeRevenueInMillions': 2917,\n",
      "                    'budgetInMillions': 281,\n",
      "                    'name': 'The Lord of the Rings Series',\n",
      "                    'rottenTomatoesScore': 94,\n",
      "                    'runtimeInMinutes': 558},\n",
      "                {   '_id': '5cd95395de30eff6ebccde57',\n",
      "                    'academyAwardNominations': 7,\n",
      "                    'academyAwardWins': 1,\n",
      "                    'boxOfficeRevenueInMillions': 2932,\n",
      "                    'budgetInMillions': 675,\n",
      "                    'name': 'The Hobbit Series',\n",
      "                    'rottenTomatoesScore': 66.33333333,\n",
      "                    'runtimeInMinutes': 462},\n",
      "                {   '_id': '5cd95395de30eff6ebccde58',\n",
      "                    'academyAwardNominations': 3,\n",
      "                    'academyAwardWins': 1,\n",
      "                    'boxOfficeRevenueInMillions': 1021,\n",
      "                    'budgetInMillions': 200,\n",
      "                    'name': 'The Unexpected Journey',\n",
      "                    'rottenTomatoesScore': 64,\n",
      "                    'runtimeInMinutes': 169},\n",
      "                {   '_id': '5cd95395de30eff6ebccde59',\n",
      "                    'academyAwardNominations': 3,\n",
      "                    'academyAwardWins': 0,\n",
      "                    'boxOfficeRevenueInMillions': 958.4,\n",
      "                    'budgetInMillions': 217,\n",
      "                    'name': 'The Desolation of Smaug',\n",
      "                    'rottenTomatoesScore': 75,\n",
      "                    'runtimeInMinutes': 161},\n",
      "                {   '_id': '5cd95395de30eff6ebccde5a',\n",
      "                    'academyAwardNominations': 1,\n",
      "                    'academyAwardWins': 0,\n",
      "                    'boxOfficeRevenueInMillions': 956,\n",
      "                    'budgetInMillions': 250,\n",
      "                    'name': 'The Battle of the Five Armies',\n",
      "                    'rottenTomatoesScore': 60,\n",
      "                    'runtimeInMinutes': 144},\n",
      "                {   '_id': '5cd95395de30eff6ebccde5b',\n",
      "                    'academyAwardNominations': 6,\n",
      "                    'academyAwardWins': 2,\n",
      "                    'boxOfficeRevenueInMillions': 926,\n",
      "                    'budgetInMillions': 94,\n",
      "                    'name': 'The Two Towers',\n",
      "                    'rottenTomatoesScore': 96,\n",
      "                    'runtimeInMinutes': 179},\n",
      "                {   '_id': '5cd95395de30eff6ebccde5c',\n",
      "                    'academyAwardNominations': 13,\n",
      "                    'academyAwardWins': 4,\n",
      "                    'boxOfficeRevenueInMillions': 871.5,\n",
      "                    'budgetInMillions': 93,\n",
      "                    'name': 'The Fellowship of the Ring',\n",
      "                    'rottenTomatoesScore': 91,\n",
      "                    'runtimeInMinutes': 178},\n",
      "                {   '_id': '5cd95395de30eff6ebccde5d',\n",
      "                    'academyAwardNominations': 11,\n",
      "                    'academyAwardWins': 11,\n",
      "                    'boxOfficeRevenueInMillions': 1120,\n",
      "                    'budgetInMillions': 94,\n",
      "                    'name': 'The Return of the King',\n",
      "                    'rottenTomatoesScore': 95,\n",
      "                    'runtimeInMinutes': 201}],\n",
      "    'limit': 1000,\n",
      "    'offset': 0,\n",
      "    'page': 1,\n",
      "    'pages': 1,\n",
      "    'total': 8}\n"
     ]
    }
   ],
   "source": [
    "acces_token = \"lUI2bgnThYJOMkF0rknm\"\n",
    "\n",
    "def get_lotr_movie():\n",
    "\n",
    "    headers = {\n",
    "        \"Authorization\": f\"Bearer {acces_token}\"\n",
    "    }\n",
    "\n",
    "    response = requests.get(\"https://the-one-api.dev/v2/movie\", headers = headers)\n",
    "    lotr_movies = response.json()\n",
    "\n",
    "    return lotr_movies\n",
    "\n",
    "pp.pprint(get_lotr_movie())"
   ]
  }
 ],
 "metadata": {
  "kernelspec": {
   "display_name": ".virtual",
   "language": "python",
   "name": "python3"
  },
  "language_info": {
   "codemirror_mode": {
    "name": "ipython",
    "version": 3
   },
   "file_extension": ".py",
   "mimetype": "text/x-python",
   "name": "python",
   "nbconvert_exporter": "python",
   "pygments_lexer": "ipython3",
   "version": "3.11.5"
  }
 },
 "nbformat": 4,
 "nbformat_minor": 2
}
